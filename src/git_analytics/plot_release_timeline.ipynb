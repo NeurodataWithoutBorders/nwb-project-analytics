{
 "cells": [
  {
   "cell_type": "code",
   "execution_count": 1,
   "metadata": {},
   "outputs": [],
   "source": [
    "import git\n",
    "import requests\n",
    "from datetime import datetime\n",
    "import numpy as np\n",
    "from matplotlib import pyplot as plt\n",
    "import matplotlib.dates as mdates\n",
    "%matplotlib inline"
   ]
  },
  {
   "cell_type": "code",
   "execution_count": 2,
   "metadata": {},
   "outputs": [],
   "source": [
    "git_paths = {'PyNWB': \"NeurodataWithoutBorders/pynwb\", \n",
    "             'MatNWB': \"NeurodataWithoutBorders/matnwb\",\n",
    "             'NWBWidgets': \"NeurodataWithoutBorders/nwb-jupyter-widgets\",\n",
    "             'NWBInspector': \"NeurodataWithoutBorders/nwbinspector\",\n",
    "             'Hackathons': \"NeurodataWithoutBorders/nwb_hackathons\",\n",
    "             'NWB_Schema': \"NeurodataWithoutBorders/nwb-schema\",\n",
    "             'NWB_Schema_Language': \"NeurodataWithoutBorders/nwb-schema-language\",\n",
    "             'HDMF': 'hdmf-dev/hdmf',\n",
    "             'HDMF_Common_Schema': 'hdmf-dev/hdmf-common-schema',\n",
    "             'HDMF_DocUtils': 'hdmf-dev/hdmf-docutils',\n",
    "             'HDMF Schema Language' : 'hdmf-dev/hdmf-schema-language',\n",
    "             'NDX_Template': 'nwb-extensions/ndx-template',\n",
    "             'NDX_Staged_Extensions': 'nwb-extensions/staged-extensions',\n",
    "             #'NDX Webservices': 'https://github.com/nwb-extensions/nwb-extensions-webservices.git',\n",
    "             'NDX_Catalog': 'nwb-extensions/nwb-extensions.github.io',\n",
    "             'NDX_Extension_Smithy': 'nwb-extensions/nwb-extensions-smithy',\n",
    "             'NWB_1.x_Matlab': 'NeurodataWithoutBorders/api-matlab',\n",
    "             'NWB_1.x_Python': 'NeurodataWithoutBorders/api-python'\n",
    "            }"
   ]
  },
  {
   "cell_type": "code",
   "execution_count": null,
   "metadata": {},
   "outputs": [],
   "source": [
    "def get_releases(repo_name):\n",
    "    \"\"\"\n",
    "    Get release for the given repo\n",
    "    \n",
    "    :param repo_name: Name of the repo consisting of <owner>/<repo>, e.g., 'NeurodataWithoutBorders/pynwb'\n",
    "    \n",
    "    :returns: List of dicts with the release data\n",
    "    \"\"\"\n",
    "    r = requests.get(\"https://api.github.com/repos/%s/releases\" % (repo_name.lstrip('/').rstrip('/')))\n",
    "    if not r.ok:\n",
    "        r.raise_for_status()\n",
    "    return r.json()\n",
    "\n",
    "def get_release_names_and_dates(releases):\n",
    "    \"\"\"Given the output of get_releases get just the names and dates of releases\"\"\"\n",
    "    names = []\n",
    "    dates = []\n",
    "    for rel in releases:\n",
    "        if 'Latest' not in rel['name']:\n",
    "            names.append(rel['tag_name'])\n",
    "            dates.append(rel['published_at'])  \n",
    "    dates = [datetime.strptime(d[0:10], \"%Y-%m-%d\") for d in dates]\n",
    "    return names, dates\n",
    "\n",
    "def plot_release_timeline(reponame, names, dates, figsize=None, tag_fontsize=14):\n",
    "    # Based on https://matplotlib.org/stable/gallery/lines_bars_and_markers/timeline.html\n",
    "    # Choose some nice levels\n",
    "    levels = np.tile([-5, 5, -3, 3, -1, 1],\n",
    "                     int(np.ceil(len(dates)/6)))[:len(dates)]\n",
    "\n",
    "    # Create figure and plot a stem plot with the date\n",
    "    fig, ax = plt.subplots(figsize=(12,5) if figsize is None else figsize)\n",
    "    ax.set(title=\"%s release dates\" % reponame)\n",
    "\n",
    "    ax.vlines(dates, 0, levels, color=\"tab:blue\")  # The vertical stems.\n",
    "    ax.plot(dates, np.zeros_like(dates), \"-o\",\n",
    "            color=\"k\", markerfacecolor=\"w\")  # Baseline and markers on it.\n",
    "\n",
    "    # annotate lines\n",
    "    for d, l, r in zip(dates, levels, names):\n",
    "        ax.annotate(r, xy=(d, l),\n",
    "                    xytext=(tag_fontsize+2, np.sign(l)*3), textcoords=\"offset points\",\n",
    "                    horizontalalignment=\"right\",\n",
    "                    verticalalignment=\"bottom\" if l > 0 else \"top\",\n",
    "                    fontsize=tag_fontsize)\n",
    "\n",
    "    # format xaxis with 4 month intervals\n",
    "    ax.xaxis.set_major_locator(mdates.MonthLocator(interval=4))\n",
    "    ax.xaxis.set_major_formatter(mdates.DateFormatter(\"%b %Y\"))\n",
    "    plt.setp(ax.get_xticklabels(), rotation=30, ha=\"right\")\n",
    "\n",
    "    # remove y axis and spines\n",
    "    ax.yaxis.set_visible(False)\n",
    "    #ax.spines[[\"left\", \"top\", \"right\"]].set_visible(False)\n",
    "\n",
    "    ax.margins(y=0.1)\n",
    "    plt.tight_layout()\n",
    "    plt.show()"
   ]
  },
  {
   "cell_type": "code",
   "execution_count": 19,
   "metadata": {},
   "outputs": [
    {
     "ename": "HTTPError",
     "evalue": "403 Client Error: rate limit exceeded for url: https://api.github.com/repos/NeurodataWithoutBorders/pynwb/releases",
     "output_type": "error",
     "traceback": [
      "\u001b[0;31m---------------------------------------------------------------------------\u001b[0m",
      "\u001b[0;31mHTTPError\u001b[0m                                 Traceback (most recent call last)",
      "\u001b[0;32m<ipython-input-19-d6b7059cc7c2>\u001b[0m in \u001b[0;36m<module>\u001b[0;34m\u001b[0m\n\u001b[1;32m      1\u001b[0m \u001b[0;32mfor\u001b[0m \u001b[0mrepo\u001b[0m \u001b[0;32min\u001b[0m \u001b[0;34m[\u001b[0m\u001b[0;34m'PyNWB'\u001b[0m\u001b[0;34m,\u001b[0m \u001b[0;34m'MatNWB'\u001b[0m\u001b[0;34m,\u001b[0m \u001b[0;34m'HDMF'\u001b[0m\u001b[0;34m,\u001b[0m \u001b[0;34m'NWB_Schema'\u001b[0m\u001b[0;34m,\u001b[0m \u001b[0;34m'HDMF_Common_Schema'\u001b[0m\u001b[0;34m]\u001b[0m\u001b[0;34m:\u001b[0m\u001b[0;34m\u001b[0m\u001b[0;34m\u001b[0m\u001b[0m\n\u001b[0;32m----> 2\u001b[0;31m     \u001b[0mreleases\u001b[0m \u001b[0;34m=\u001b[0m \u001b[0mget_releases\u001b[0m\u001b[0;34m(\u001b[0m\u001b[0mgit_paths\u001b[0m\u001b[0;34m[\u001b[0m\u001b[0mrepo\u001b[0m\u001b[0;34m]\u001b[0m\u001b[0;34m)\u001b[0m\u001b[0;34m\u001b[0m\u001b[0;34m\u001b[0m\u001b[0m\n\u001b[0m\u001b[1;32m      3\u001b[0m     \u001b[0mrelease_names\u001b[0m\u001b[0;34m,\u001b[0m \u001b[0mrelease_dates\u001b[0m \u001b[0;34m=\u001b[0m \u001b[0mget_release_names_and_dates\u001b[0m\u001b[0;34m(\u001b[0m\u001b[0mreleases\u001b[0m\u001b[0;34m)\u001b[0m\u001b[0;34m\u001b[0m\u001b[0;34m\u001b[0m\u001b[0m\n\u001b[1;32m      4\u001b[0m     \u001b[0mplot_release_timeline\u001b[0m\u001b[0;34m(\u001b[0m\u001b[0mrepo\u001b[0m\u001b[0;34m,\u001b[0m \u001b[0mrelease_names\u001b[0m\u001b[0;34m,\u001b[0m \u001b[0mrelease_dates\u001b[0m\u001b[0;34m)\u001b[0m\u001b[0;34m\u001b[0m\u001b[0;34m\u001b[0m\u001b[0m\n",
      "\u001b[0;32m<ipython-input-18-d3473f23f069>\u001b[0m in \u001b[0;36mget_releases\u001b[0;34m(repo_name)\u001b[0m\n\u001b[1;32m      9\u001b[0m     \u001b[0mr\u001b[0m \u001b[0;34m=\u001b[0m \u001b[0mrequests\u001b[0m\u001b[0;34m.\u001b[0m\u001b[0mget\u001b[0m\u001b[0;34m(\u001b[0m\u001b[0;34m\"https://api.github.com/repos/%s/releases\"\u001b[0m \u001b[0;34m%\u001b[0m \u001b[0;34m(\u001b[0m\u001b[0mrepo_name\u001b[0m\u001b[0;34m.\u001b[0m\u001b[0mlstrip\u001b[0m\u001b[0;34m(\u001b[0m\u001b[0;34m'/'\u001b[0m\u001b[0;34m)\u001b[0m\u001b[0;34m.\u001b[0m\u001b[0mrstrip\u001b[0m\u001b[0;34m(\u001b[0m\u001b[0;34m'/'\u001b[0m\u001b[0;34m)\u001b[0m\u001b[0;34m)\u001b[0m\u001b[0;34m)\u001b[0m\u001b[0;34m\u001b[0m\u001b[0;34m\u001b[0m\u001b[0m\n\u001b[1;32m     10\u001b[0m     \u001b[0;32mif\u001b[0m \u001b[0;32mnot\u001b[0m \u001b[0mr\u001b[0m\u001b[0;34m.\u001b[0m\u001b[0mok\u001b[0m\u001b[0;34m:\u001b[0m\u001b[0;34m\u001b[0m\u001b[0;34m\u001b[0m\u001b[0m\n\u001b[0;32m---> 11\u001b[0;31m         \u001b[0mr\u001b[0m\u001b[0;34m.\u001b[0m\u001b[0mraise_for_status\u001b[0m\u001b[0;34m(\u001b[0m\u001b[0;34m)\u001b[0m\u001b[0;34m\u001b[0m\u001b[0;34m\u001b[0m\u001b[0m\n\u001b[0m\u001b[1;32m     12\u001b[0m     \u001b[0;32mreturn\u001b[0m \u001b[0mr\u001b[0m\u001b[0;34m.\u001b[0m\u001b[0mjson\u001b[0m\u001b[0;34m(\u001b[0m\u001b[0;34m)\u001b[0m\u001b[0;34m\u001b[0m\u001b[0;34m\u001b[0m\u001b[0m\n\u001b[1;32m     13\u001b[0m \u001b[0;34m\u001b[0m\u001b[0m\n",
      "\u001b[0;32m~/anaconda3/lib/python3.7/site-packages/requests/models.py\u001b[0m in \u001b[0;36mraise_for_status\u001b[0;34m(self)\u001b[0m\n\u001b[1;32m    939\u001b[0m \u001b[0;34m\u001b[0m\u001b[0m\n\u001b[1;32m    940\u001b[0m         \u001b[0;32mif\u001b[0m \u001b[0mhttp_error_msg\u001b[0m\u001b[0;34m:\u001b[0m\u001b[0;34m\u001b[0m\u001b[0;34m\u001b[0m\u001b[0m\n\u001b[0;32m--> 941\u001b[0;31m             \u001b[0;32mraise\u001b[0m \u001b[0mHTTPError\u001b[0m\u001b[0;34m(\u001b[0m\u001b[0mhttp_error_msg\u001b[0m\u001b[0;34m,\u001b[0m \u001b[0mresponse\u001b[0m\u001b[0;34m=\u001b[0m\u001b[0mself\u001b[0m\u001b[0;34m)\u001b[0m\u001b[0;34m\u001b[0m\u001b[0;34m\u001b[0m\u001b[0m\n\u001b[0m\u001b[1;32m    942\u001b[0m \u001b[0;34m\u001b[0m\u001b[0m\n\u001b[1;32m    943\u001b[0m     \u001b[0;32mdef\u001b[0m \u001b[0mclose\u001b[0m\u001b[0;34m(\u001b[0m\u001b[0mself\u001b[0m\u001b[0;34m)\u001b[0m\u001b[0;34m:\u001b[0m\u001b[0;34m\u001b[0m\u001b[0;34m\u001b[0m\u001b[0m\n",
      "\u001b[0;31mHTTPError\u001b[0m: 403 Client Error: rate limit exceeded for url: https://api.github.com/repos/NeurodataWithoutBorders/pynwb/releases"
     ]
    }
   ],
   "source": [
    "for repo in ['PyNWB', 'MatNWB', 'HDMF', 'NWB_Schema', 'HDMF_Common_Schema']:\n",
    "    releases = get_releases(git_paths[repo])\n",
    "    release_names, release_dates = get_release_names_and_dates(releases)\n",
    "    plot_release_timeline(repo, release_names, release_dates)"
   ]
  },
  {
   "cell_type": "code",
   "execution_count": null,
   "metadata": {},
   "outputs": [],
   "source": []
  },
  {
   "cell_type": "code",
   "execution_count": null,
   "metadata": {},
   "outputs": [],
   "source": []
  },
  {
   "cell_type": "code",
   "execution_count": null,
   "metadata": {},
   "outputs": [],
   "source": []
  }
 ],
 "metadata": {
  "kernelspec": {
   "display_name": "Python 3",
   "language": "python",
   "name": "python3"
  },
  "language_info": {
   "codemirror_mode": {
    "name": "ipython",
    "version": 3
   },
   "file_extension": ".py",
   "mimetype": "text/x-python",
   "name": "python",
   "nbconvert_exporter": "python",
   "pygments_lexer": "ipython3",
   "version": "3.7.3"
  }
 },
 "nbformat": 4,
 "nbformat_minor": 4
}
