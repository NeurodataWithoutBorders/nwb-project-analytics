{
 "cells": [
  {
   "cell_type": "code",
   "execution_count": null,
   "metadata": {},
   "outputs": [],
   "source": [
    "import git\n",
    "import requests\n",
    "from datetime import datetime\n",
    "import numpy as np\n",
    "from matplotlib import pyplot as plt\n",
    "import matplotlib.dates as mdates\n",
    "%matplotlib inline"
   ]
  },
  {
   "cell_type": "code",
   "execution_count": null,
   "metadata": {},
   "outputs": [],
   "source": [
    "git_paths = {'PyNWB': \"NeurodataWithoutBorders/pynwb\", \n",
    "             'MatNWB': \"NeurodataWithoutBorders/matnwb\",\n",
    "             'NWBWidgets': \"NeurodataWithoutBorders/nwb-jupyter-widgets\",\n",
    "             'NWBInspector': \"NeurodataWithoutBorders/nwbinspector\",\n",
    "             'Hackathons': \"NeurodataWithoutBorders/nwb_hackathons\",\n",
    "             'NWB_Schema': \"NeurodataWithoutBorders/nwb-schema\",\n",
    "             'NWB_Schema_Language': \"NeurodataWithoutBorders/nwb-schema-language\",\n",
    "             'HDMF': 'hdmf-dev/hdmf',\n",
    "             'HDMF_Common_Schema': 'hdmf-dev/hdmf-common-schema',\n",
    "             'HDMF_DocUtils': 'hdmf-dev/hdmf-docutils',\n",
    "             'HDMF Schema Language' : 'hdmf-dev/hdmf-schema-language',\n",
    "             'NDX_Template': 'nwb-extensions/ndx-template',\n",
    "             'NDX_Staged_Extensions': 'nwb-extensions/staged-extensions',\n",
    "             #'NDX Webservices': 'https://github.com/nwb-extensions/nwb-extensions-webservices.git',\n",
    "             'NDX_Catalog': 'nwb-extensions/nwb-extensions.github.io',\n",
    "             'NDX_Extension_Smithy': 'nwb-extensions/nwb-extensions-smithy',\n",
    "             'NWB_1.x_Matlab': 'NeurodataWithoutBorders/api-matlab',\n",
    "             'NWB_1.x_Python': 'NeurodataWithoutBorders/api-python'\n",
    "            }"
   ]
  },
  {
   "cell_type": "code",
   "execution_count": null,
   "metadata": {},
   "outputs": [],
   "source": [
    "def get_releases(repo_name):\n",
    "    \"\"\"\n",
    "    Get the last 100 release for the given repo\n",
    "    \n",
    "    :param repo_name: Name of the repo consisting of <owner>/<repo>, e.g., 'NeurodataWithoutBorders/pynwb'\n",
    "    \n",
    "    :returns: List of dicts with the release data\n",
    "    \"\"\"\n",
    "    # NOTE: GitHub uses pageination. Here we set the number of items per page to 100\n",
    "    #       which should usually fit all releases, but in the future we may need to\n",
    "    #       iterate over pages to get all the releases not just the latests 100\n",
    "    r = requests.get(\"https://api.github.com/repos/%s/releases?per_page=100\" % (repo_name.lstrip('/').rstrip('/')))\n",
    "    if not r.ok:\n",
    "        r.raise_for_status()\n",
    "    return r.json()\n",
    "\n",
    "def get_release_names_and_dates(releases):\n",
    "    \"\"\"Given the output of get_releases get just the names and dates of releases\"\"\"\n",
    "    names = []\n",
    "    dates = []\n",
    "    for rel in releases:\n",
    "        if 'Latest' not in rel['name']:\n",
    "            names.append(rel['tag_name'])\n",
    "            dates.append(rel['published_at'])  \n",
    "    dates = [datetime.strptime(d[0:10], \"%Y-%m-%d\") for d in dates]\n",
    "    return names, dates\n",
    "\n",
    "def plot_release_timeline(reponame, names, dates, figsize=None, fontsize=14, month_intervals=3, xlim=None, ax=None, title_on_yaxis=False):\n",
    "    # Based on https://matplotlib.org/stable/gallery/lines_bars_and_markers/timeline.html\n",
    "    # Choose some nice levels\n",
    "    levels = np.tile([-5, 5, -3, 3, -1, 1],\n",
    "                     int(np.ceil(len(dates)/6)))[:len(dates)]\n",
    "\n",
    "    # Create figure and plot a stem plot with the date\n",
    "    if ax is None:\n",
    "        fig, ax = plt.subplots(figsize=(12,5) if figsize is None else figsize)\n",
    "    \n",
    "    ax.vlines(dates, 0, levels, color=\"dodgerblue\")  # The vertical stems.\n",
    "    ax.plot(dates, np.zeros_like(dates), \"-o\",\n",
    "            color=\"k\", markerfacecolor=\"w\")  # Baseline and markers on it.\n",
    "\n",
    "    # annotate lines\n",
    "    for d, l, r in zip(dates, levels, names):\n",
    "        ax.annotate(r, xy=(d, l),\n",
    "                    xytext=(fontsize+2, np.sign(l)*3), textcoords=\"offset points\",\n",
    "                    horizontalalignment=\"right\",\n",
    "                    verticalalignment=\"bottom\" if l > 0 else \"top\",\n",
    "                    fontsize=fontsize)\n",
    "\n",
    "    # format xaxis with 4 month intervals\n",
    "    if xlim is not None:\n",
    "        ax.set_xlim(xlim)\n",
    "    ax.xaxis.set_major_locator(mdates.MonthLocator(interval=month_intervals))\n",
    "    ax.xaxis.set_major_formatter(mdates.DateFormatter(\"%b %Y\"))\n",
    "    plt.setp(ax.get_xticklabels(), rotation=30, ha=\"right\", fontsize=fontsize)\n",
    "        \n",
    "    # set the title\n",
    "    if title_on_yaxis:\n",
    "        ax.get_yaxis().set_ticks([])\n",
    "        ax.set_ylabel(reponame, fontsize=fontsize)\n",
    "    else:  \n",
    "        ax.set_title(\"%s release dates\" % reponame, fontdict={'fontsize': fontsize})\n",
    "        ax.yaxis.set_visible(False)\n",
    "\n",
    "    ax.margins(y=0.1)\n",
    "    return ax"
   ]
  },
  {
   "cell_type": "code",
   "execution_count": null,
   "metadata": {},
   "outputs": [],
   "source": [
    "# Collect all releases\n",
    "releases = {k: get_releases(v) for k, v in git_paths.items()}"
   ]
  },
  {
   "cell_type": "code",
   "execution_count": null,
   "metadata": {},
   "outputs": [],
   "source": [
    "# Plot results for select repos\n",
    "select_repos = ['PyNWB', 'HDMF', 'MatNWB', 'NWB_Schema', 'HDMF_Common_Schema']\n",
    "fig, axes = plt.subplots(figsize=(16, len(select_repos)*4.2), nrows=len(select_repos), ncols=1, sharex=True, sharey=False, squeeze=True)\n",
    "for i, repo in enumerate(select_repos):\n",
    "    release_names, release_dates = get_release_names_and_dates(releases[repo])\n",
    "    plot_release_timeline(reponame=repo.replace(\"_\", \" \"), \n",
    "                          names=release_names, \n",
    "                          dates=release_dates,\n",
    "                          #figsize=(15,4),\n",
    "                          fontsize=14, \n",
    "                          month_intervals=2,\n",
    "                          xlim=(datetime.strptime(\"2017-10-01\", \"%Y-%m-%d\"), \n",
    "                                datetime.strptime(\"2021-10-01\", \"%Y-%m-%d\"),),\n",
    "                          ax=axes[i],\n",
    "                          title_on_yaxis=True)\n",
    "    #if i < len(axes) -1:\n",
    "    #    axes[i].xaxis.set_visible(False)\n",
    "    axes[i].grid(axis=\"x\", linestyle='dashed', color='lightgray')\n",
    "axes[0].set_title(\"Timeline of NWB Release\", fontdict={'fontsize':16})\n",
    "plt.subplots_adjust(wspace=0, hspace=0.0)\n",
    "plt.savefig('nwb_software_releases_timeline.pdf', dpi=300)\n",
    "plt.show()"
   ]
  },
  {
   "cell_type": "code",
   "execution_count": null,
   "metadata": {},
   "outputs": [],
   "source": []
  },
  {
   "cell_type": "code",
   "execution_count": null,
   "metadata": {},
   "outputs": [],
   "source": []
  },
  {
   "cell_type": "code",
   "execution_count": null,
   "metadata": {},
   "outputs": [],
   "source": []
  },
  {
   "cell_type": "code",
   "execution_count": null,
   "metadata": {},
   "outputs": [],
   "source": []
  },
  {
   "cell_type": "code",
   "execution_count": null,
   "metadata": {},
   "outputs": [],
   "source": []
  }
 ],
 "metadata": {
  "kernelspec": {
   "display_name": "Python 3",
   "language": "python",
   "name": "python3"
  },
  "language_info": {
   "codemirror_mode": {
    "name": "ipython",
    "version": 3
   },
   "file_extension": ".py",
   "mimetype": "text/x-python",
   "name": "python",
   "nbconvert_exporter": "python",
   "pygments_lexer": "ipython3",
   "version": "3.7.3"
  }
 },
 "nbformat": 4,
 "nbformat_minor": 4
}
