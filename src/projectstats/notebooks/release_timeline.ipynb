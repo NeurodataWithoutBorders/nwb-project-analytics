{
 "cells": [
  {
   "cell_type": "code",
   "execution_count": null,
   "metadata": {},
   "outputs": [],
   "source": [
    "import os \n",
    "import sys\n",
    "sys.path.append(os.path.abspath(os.path.join(os.getcwd(), \"../\")))\n",
    "from gitstats import NWBGitInfo, GitHubRepoInfo"
   ]
  },
  {
   "cell_type": "code",
   "execution_count": null,
   "metadata": {},
   "outputs": [],
   "source": [
    "import git\n",
    "import requests\n",
    "from datetime import datetime\n",
    "import numpy as np\n",
    "from matplotlib import pyplot as plt\n",
    "import matplotlib.dates as mdates\n",
    "%matplotlib inline"
   ]
  },
  {
   "cell_type": "code",
   "execution_count": null,
   "metadata": {},
   "outputs": [],
   "source": [
    "git_repo_infos = NWBGitInfo.GIT_REPOS.get_info_objects()"
   ]
  },
  {
   "cell_type": "markdown",
   "metadata": {},
   "source": [
    "# Plot the release timeline"
   ]
  },
  {
   "cell_type": "code",
   "execution_count": null,
   "metadata": {},
   "outputs": [],
   "source": [
    "# Define basic settings for the plot\n",
    "# Plot results for select repos\n",
    "select_repos = ['PyNWB', 'HDMF', 'MatNWB', 'NWB_Schema', 'HDMF_Common_Schema']\n",
    "fontsize = 16\n",
    "# Define additional releases to add to the timeline for select repos, e.g., if GitHub tags are missing for releases\n",
    "# This is a dict where the keys are a subset of select_repos and the values are lists of tuples with the form\n",
    "# (release: str, data: datetime)\n",
    "additional_releases = { # Add 2.0 release for NWB schema using the same data as for PyNWB 1.0\n",
    "                        # Add 2.0beta release for NWB schema using the same data for PyNWB 0.2.0\n",
    "                        \"NWB_Schema\" : [(\"2.0.0\", datetime.strptime(\"2019-01-19\", \"%Y-%m-%d\")), \n",
    "                                       (\"2.0.0b\", datetime.strptime(\"2017-11-11\", \"%Y-%m-%d\"))],\n",
    "                        # Add first beta release for MatNWB using the same date as for PyNWB 0.2.0\n",
    "                        \"MatNWB\" : [(\"0.1.0b\", datetime.strptime(\"2017-11-11\", \"%Y-%m-%d\"))] }\n",
    "# Title for the plot\n",
    "plot_title = \"Timeline of NWB Release\"\n",
    "# Datetime range and step-size in month to use along the xaxis of the plot(s)\n",
    "plot_xlim= (datetime.strptime(\"2017-09-15\", \"%Y-%m-%d\"), \n",
    "            datetime.strptime(\"2021-10-01\", \"%Y-%m-%d\"))\n",
    "month_intervals = 2 "
   ]
  },
  {
   "cell_type": "code",
   "execution_count": null,
   "metadata": {},
   "outputs": [],
   "source": [
    "# Render the release timeline for all repos\n",
    "fig, axes = plt.subplots(figsize=(16, len(select_repos)*4.2), \n",
    "                         nrows=len(select_repos), \n",
    "                         ncols=1, sharex=True, sharey=False, squeeze=True)\n",
    "for i, repo in enumerate(select_repos):\n",
    "    add_releases = additional_releases.get(repo, None)\n",
    "    ax = git_repo_infos[repo].plot_release_timeline(\n",
    "        fontsize=fontsize, \n",
    "        month_intervals=month_intervals,\n",
    "        xlim=plot_xlim,\n",
    "        ax=axes[i],\n",
    "        title_on_yaxis=True,\n",
    "        add_releases=add_releases)\n",
    "    # Show the legend only on the first plot (since it is the same for all)\n",
    "    if i > 0:\n",
    "        ax.get_legend().remove()\n",
    "# Final layout, save, and display \n",
    "plt.tight_layout()\n",
    "plt.subplots_adjust(wspace=0.0, hspace=0.02)\n",
    "plt.savefig('nwb_software_releases_timeline.pdf', dpi=300)\n",
    "plt.savefig('nwb_software_releases_timeline.png', dpi=300)\n",
    "axes[0].set_title(plot_title, fontdict={'fontsize':fontsize})\n",
    "plt.show()"
   ]
  },
  {
   "cell_type": "markdown",
   "metadata": {},
   "source": [
    "# Plot timeline with code stats\n",
    "\n",
    "The following example illustrates plotting of code statistics along with the release history. This relies on the output of the cloc_code_stats.ipynb notebook."
   ]
  },
  {
   "cell_type": "code",
   "execution_count": null,
   "metadata": {},
   "outputs": [],
   "source": [
    "from codestats import GitCodeStats\n",
    "import pandas as pd\n",
    "if GitCodeStats.cached('temp_cloc_stats'):\n",
    "    git_code_stats = GitCodeStats.from_cache('temp_cloc_stats')\n",
    "    date_range = pd.date_range(start=datetime.strptime(NWBGitInfo.HDMF_START_DATE, \"%Y-%m-%d\").strftime(\"%d %b %Y\"), \n",
    "                               end=git_code_stats.cloc_stats['HDMF'][0]['date'], freq=\"D\")\n",
    "    code_summary_stats = git_code_stats.compute_summary_stats(date_range=date_range) \n",
    "    # Clean up HDMF stats to ignore data from before HDMF was extracted from PyNWB\n",
    "    for k in code_summary_stats.keys():\n",
    "        code_summary_stats[k]['HDMF'][:NWBGitInfo.HDMF_START_DATE] = 0\n",
    "else:\n",
    "    git_code_stats = None\n",
    "    print(\"No cached code stats available\")"
   ]
  },
  {
   "cell_type": "code",
   "execution_count": null,
   "metadata": {},
   "outputs": [],
   "source": [
    "if git_code_stats:\n",
    "    k = 'HDMF'\n",
    "    curr_df = pd.DataFrame.from_dict({'code': code_summary_stats['codes'][k], \n",
    "                                      'blank': code_summary_stats['blanks'][k], \n",
    "                                      'comment': code_summary_stats['comments'][k]})\n",
    "    curr_df.index = date_range\n",
    "    ax = curr_df.plot.area(\n",
    "        figsize=(18,10), \n",
    "        stacked=True, \n",
    "        linewidth=0, \n",
    "        fontsize=16)\n",
    "    \n",
    "    # Choose some nice levels\n",
    "    names, dates = git_repo_infos[k].get_release_names_and_dates()\n",
    "    version_jumps = GitHubRepoInfo.get_version_jump_from_tags(names)\n",
    "    levels = []\n",
    "    curr_minor = 5000\n",
    "    curr_patch = 700\n",
    "    for n in names:\n",
    "        if version_jumps[n] == \"major\":\n",
    "            levels.append(8000)\n",
    "        elif version_jumps[n] == \"minor\":\n",
    "            levels.append(curr_minor)\n",
    "            curr_minor += 1000\n",
    "            if curr_minor > 6000:\n",
    "                curr_minor = 5000\n",
    "        else:\n",
    "            levels.append(curr_patch)\n",
    "            curr_patch += 700\n",
    "            if curr_patch > 3000:\n",
    "                curr_patch = 1500\n",
    "    \n",
    "    ax.vlines(dates, 0, levels, color=\"white\")  # The vertical stems.\n",
    "    ax.plot(dates, np.zeros_like(dates), \"-o\",\n",
    "            color=\"k\", markerfacecolor=\"w\")  # Baseline and markers on it.\n",
    "    # annotate lines\n",
    "    for d, l, r in zip(dates, levels, names):\n",
    "        ax.annotate(r, xy=(d, l),\n",
    "                    xytext=(14+2, np.sign(l)*3), textcoords=\"offset points\",\n",
    "                    horizontalalignment=\"right\",\n",
    "                    verticalalignment=\"bottom\" if l > 0 else \"top\",\n",
    "                    fontsize=20 if version_jumps[r] == \"major\" else 16 if version_jumps[r] == \"minor\" else 12,\n",
    "                    color='white')\n",
    "\n",
    "    plt.legend(loc=2, prop={'size': 16})\n",
    "    plt.ylabel('Lines of Code (CLOC)', fontsize=16)\n",
    "    plt.grid(color='black', linestyle='--', linewidth=0.7, axis='both')\n",
    "    plt.title(\"Lines of Code: %s\" % k, fontsize=20)\n",
    "    plt.tight_layout()\n",
    "    plt.show()\n"
   ]
  },
  {
   "cell_type": "code",
   "execution_count": null,
   "metadata": {},
   "outputs": [],
   "source": []
  },
  {
   "cell_type": "code",
   "execution_count": null,
   "metadata": {},
   "outputs": [],
   "source": []
  },
  {
   "cell_type": "code",
   "execution_count": null,
   "metadata": {},
   "outputs": [],
   "source": []
  },
  {
   "cell_type": "code",
   "execution_count": null,
   "metadata": {},
   "outputs": [],
   "source": []
  },
  {
   "cell_type": "code",
   "execution_count": null,
   "metadata": {},
   "outputs": [],
   "source": []
  },
  {
   "cell_type": "code",
   "execution_count": null,
   "metadata": {},
   "outputs": [],
   "source": []
  },
  {
   "cell_type": "code",
   "execution_count": null,
   "metadata": {},
   "outputs": [],
   "source": []
  }
 ],
 "metadata": {
  "kernelspec": {
   "display_name": "Python 3",
   "language": "python",
   "name": "python3"
  },
  "language_info": {
   "codemirror_mode": {
    "name": "ipython",
    "version": 3
   },
   "file_extension": ".py",
   "mimetype": "text/x-python",
   "name": "python",
   "nbconvert_exporter": "python",
   "pygments_lexer": "ipython3",
   "version": "3.8.10"
  }
 },
 "nbformat": 4,
 "nbformat_minor": 4
}
