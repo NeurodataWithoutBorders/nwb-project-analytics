{
 "cells": [
  {
   "cell_type": "code",
   "execution_count": null,
   "metadata": {},
   "outputs": [],
   "source": [
    "import os \n",
    "import sys\n",
    "sys.path.append(os.path.abspath(os.path.join(os.getcwd(), \"../\")))\n",
    "from gitstats import NWBGitInfo, GitHubRepoInfo"
   ]
  },
  {
   "cell_type": "code",
   "execution_count": null,
   "metadata": {},
   "outputs": [],
   "source": [
    "import git\n",
    "import requests\n",
    "from datetime import datetime\n",
    "import numpy as np\n",
    "from matplotlib import pyplot as plt\n",
    "import matplotlib.dates as mdates\n",
    "%matplotlib inline"
   ]
  },
  {
   "cell_type": "code",
   "execution_count": null,
   "metadata": {},
   "outputs": [],
   "source": [
    "git_repo_infos = NWBGitInfo.GIT_REPOS.get_info_objects()"
   ]
  },
  {
   "cell_type": "code",
   "execution_count": null,
   "metadata": {},
   "outputs": [],
   "source": [
    "# Plot results for select repos\n",
    "select_repos = ['PyNWB', 'HDMF', 'MatNWB', 'NWB_Schema', 'HDMF_Common_Schema']\n",
    "fig, axes = plt.subplots(figsize=(16, len(select_repos)*4.2), \n",
    "                         nrows=len(select_repos), \n",
    "                         ncols=1, sharex=True, sharey=False, squeeze=True)\n",
    "for i, repo in enumerate(select_repos):\n",
    "    git_repo_infos[repo].plot_release_timeline(\n",
    "        fontsize=14, \n",
    "        month_intervals=2,\n",
    "        xlim=(datetime.strptime(\"2017-10-01\", \"%Y-%m-%d\"), \n",
    "             datetime.strptime(\"2021-10-01\", \"%Y-%m-%d\"),),\n",
    "        ax=axes[i],\n",
    "        title_on_yaxis=True)\n",
    "    axes[i].grid(axis=\"x\", linestyle='dashed', color='lightgray')\n",
    "axes[0].set_title(\"Timeline of NWB Release\", fontdict={'fontsize':16})\n",
    "plt.subplots_adjust(wspace=0, hspace=0.0)\n",
    "plt.savefig('nwb_software_releases_timeline.pdf', dpi=300)\n",
    "plt.show()"
   ]
  },
  {
   "cell_type": "code",
   "execution_count": null,
   "metadata": {},
   "outputs": [],
   "source": []
  },
  {
   "cell_type": "code",
   "execution_count": null,
   "metadata": {},
   "outputs": [],
   "source": []
  },
  {
   "cell_type": "code",
   "execution_count": null,
   "metadata": {},
   "outputs": [],
   "source": []
  },
  {
   "cell_type": "code",
   "execution_count": null,
   "metadata": {},
   "outputs": [],
   "source": []
  },
  {
   "cell_type": "code",
   "execution_count": null,
   "metadata": {},
   "outputs": [],
   "source": []
  },
  {
   "cell_type": "code",
   "execution_count": null,
   "metadata": {},
   "outputs": [],
   "source": []
  }
 ],
 "metadata": {
  "kernelspec": {
   "display_name": "Python 3",
   "language": "python",
   "name": "python3"
  },
  "language_info": {
   "codemirror_mode": {
    "name": "ipython",
    "version": 3
   },
   "file_extension": ".py",
   "mimetype": "text/x-python",
   "name": "python",
   "nbconvert_exporter": "python",
   "pygments_lexer": "ipython3",
   "version": "3.7.3"
  }
 },
 "nbformat": 4,
 "nbformat_minor": 4
}
