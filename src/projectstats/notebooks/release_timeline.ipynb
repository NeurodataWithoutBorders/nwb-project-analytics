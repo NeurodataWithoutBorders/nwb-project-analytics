{
 "cells": [
  {
   "cell_type": "code",
   "execution_count": null,
   "metadata": {},
   "outputs": [],
   "source": [
    "import os \n",
    "import sys\n",
    "sys.path.append(os.path.abspath(os.path.join(os.getcwd(), \"../\")))\n",
    "from gitstats import NWBGitInfo, GitHubRepoInfo"
   ]
  },
  {
   "cell_type": "code",
   "execution_count": null,
   "metadata": {},
   "outputs": [],
   "source": [
    "import git\n",
    "import requests\n",
    "from datetime import datetime\n",
    "import numpy as np\n",
    "from matplotlib import pyplot as plt\n",
    "import matplotlib.dates as mdates\n",
    "%matplotlib inline"
   ]
  },
  {
   "cell_type": "code",
   "execution_count": null,
   "metadata": {},
   "outputs": [],
   "source": [
    "git_repo_infos = NWBGitInfo.GIT_REPOS.get_info_objects()"
   ]
  },
  {
   "cell_type": "code",
   "execution_count": null,
   "metadata": {},
   "outputs": [],
   "source": [
    "# Plot results for select repos\n",
    "select_repos = ['PyNWB', 'HDMF', 'MatNWB', 'NWB_Schema', 'HDMF_Common_Schema']\n",
    "fig, axes = plt.subplots(figsize=(16, len(select_repos)*4.2), \n",
    "                         nrows=len(select_repos), \n",
    "                         ncols=1, sharex=True, sharey=False, squeeze=True)\n",
    "for i, repo in enumerate(select_repos):\n",
    "    add_releases=None\n",
    "    # Add 2.0 release for NWB schema. Same as PyNWB 1.0 release date\n",
    "    if repo == \"NWB_Schema\":\n",
    "        add_releases = [(\"2.0.0\", datetime.strptime(\"2019-01-19\", \"%Y-%m-%d\")),]\n",
    "    ax = git_repo_infos[repo].plot_release_timeline(\n",
    "        fontsize=14, \n",
    "        month_intervals=2,\n",
    "        xlim=(datetime.strptime(\"2017-10-01\", \"%Y-%m-%d\"), \n",
    "             datetime.strptime(\"2021-10-01\", \"%Y-%m-%d\"),),\n",
    "        ax=axes[i],\n",
    "        title_on_yaxis=True,\n",
    "        add_releases=add_releases)\n",
    "\n",
    "axes[0].set_title(\"Timeline of NWB Release\", fontdict={'fontsize':16})\n",
    "plt.subplots_adjust(wspace=0, hspace=0.0)\n",
    "plt.savefig('nwb_software_releases_timeline.pdf', dpi=300)\n",
    "plt.show()"
   ]
  },
  {
   "cell_type": "markdown",
   "metadata": {},
   "source": [
    "# Plot timeline with code stats"
   ]
  },
  {
   "cell_type": "code",
   "execution_count": null,
   "metadata": {},
   "outputs": [],
   "source": [
    "from codestats import GitCodeStats\n",
    "import pandas as pd\n",
    "if GitCodeStats.cached('temp_cloc_stats'):\n",
    "    git_code_stats = GitCodeStats.from_cache('temp_cloc_stats')\n",
    "    date_range = pd.date_range(start=datetime.strptime(NWBGitInfo.HDMF_START_DATE, \"%Y-%m-%d\").strftime(\"%d %b %Y\"), \n",
    "                               end=git_code_stats.cloc_stats['HDMF'][0]['date'], freq=\"D\")\n",
    "    code_summary_stats = git_code_stats.compute_summary_stats(date_range=date_range) \n",
    "    # Clean up HDMF stats to ignore data from before HDMF was extracted from PyNWB\n",
    "    for k in code_summary_stats.keys():\n",
    "        code_summary_stats[k]['HDMF'][:NWBGitInfo.HDMF_START_DATE] = 0\n",
    "else:\n",
    "    git_code_stats = None\n",
    "    print(\"No cached code stats available\")"
   ]
  },
  {
   "cell_type": "code",
   "execution_count": null,
   "metadata": {},
   "outputs": [],
   "source": [
    "if git_code_stats:\n",
    "    k = 'HDMF'\n",
    "    curr_df = pd.DataFrame.from_dict({'code': code_summary_stats['codes'][k], \n",
    "                                      'blank': code_summary_stats['blanks'][k], \n",
    "                                      'comment': code_summary_stats['comments'][k]})\n",
    "    curr_df.index = date_range\n",
    "    ax = curr_df.plot.area(\n",
    "        figsize=(18,10), \n",
    "        stacked=True, \n",
    "        linewidth=0, \n",
    "        fontsize=16)\n",
    "    \n",
    "    # Choose some nice levels\n",
    "    names, dates = git_repo_infos[k].get_release_names_and_dates()\n",
    "    version_jumps = GitHubRepoInfo.get_version_jump_from_tags(names)\n",
    "    levels = [8000 if version_jumps[n] == \"major\" else 5000 if version_jumps[n] == \"minor\" else 2000 for n in names]\n",
    "    \n",
    "    ax.vlines(dates, 0, levels, color=\"black\")  # The vertical stems.\n",
    "    ax.plot(dates, np.zeros_like(dates), \"-o\",\n",
    "            color=\"k\", markerfacecolor=\"w\")  # Baseline and markers on it.\n",
    "    # annotate lines\n",
    "    for d, l, r in zip(dates, levels, names):\n",
    "        ax.annotate(r, xy=(d, l),\n",
    "                    xytext=(14+2, np.sign(l)*3), textcoords=\"offset points\",\n",
    "                    horizontalalignment=\"right\",\n",
    "                    verticalalignment=\"bottom\" if l > 0 else \"top\",\n",
    "                    fontsize=20 if version_jumps[r] == \"major\" else 16 if version_jumps[r] == \"minor\" else 12,\n",
    "                    color='black')\n",
    "\n",
    "    plt.legend(loc=2, prop={'size': 16})\n",
    "    plt.ylabel('Lines of Code (CLOC)', fontsize=16)\n",
    "    plt.grid(color='black', linestyle='--', linewidth=0.7, axis='both')\n",
    "    plt.title(\"Lines of Code: %s\" % k, fontsize=20)\n",
    "    plt.tight_layout()\n",
    "    plt.show()\n"
   ]
  },
  {
   "cell_type": "code",
   "execution_count": null,
   "metadata": {},
   "outputs": [],
   "source": []
  },
  {
   "cell_type": "code",
   "execution_count": null,
   "metadata": {},
   "outputs": [],
   "source": []
  },
  {
   "cell_type": "code",
   "execution_count": null,
   "metadata": {},
   "outputs": [],
   "source": []
  },
  {
   "cell_type": "code",
   "execution_count": null,
   "metadata": {},
   "outputs": [],
   "source": []
  },
  {
   "cell_type": "code",
   "execution_count": null,
   "metadata": {},
   "outputs": [],
   "source": []
  },
  {
   "cell_type": "code",
   "execution_count": null,
   "metadata": {},
   "outputs": [],
   "source": []
  },
  {
   "cell_type": "code",
   "execution_count": null,
   "metadata": {},
   "outputs": [],
   "source": []
  }
 ],
 "metadata": {
  "kernelspec": {
   "display_name": "Python 3",
   "language": "python",
   "name": "python3"
  },
  "language_info": {
   "codemirror_mode": {
    "name": "ipython",
    "version": 3
   },
   "file_extension": ".py",
   "mimetype": "text/x-python",
   "name": "python",
   "nbconvert_exporter": "python",
   "pygments_lexer": "ipython3",
   "version": "3.7.3"
  }
 },
 "nbformat": 4,
 "nbformat_minor": 4
}
