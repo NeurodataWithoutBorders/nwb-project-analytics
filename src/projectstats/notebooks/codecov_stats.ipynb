{
 "cells": [
  {
   "cell_type": "code",
   "execution_count": null,
   "id": "4860c3f0-61e6-412d-878a-97e304b8546f",
   "metadata": {},
   "outputs": [],
   "source": [
    "import os \n",
    "import sys\n",
    "sys.path.append(os.path.abspath(os.path.join(os.getcwd(), \"../\")))\n",
    "from gitstats import NWBGitInfo\n",
    "from codecovstats import CodecovInfo\n",
    "from datetime import datetime\n",
    "from matplotlib import pyplot as plt\n",
    "import numpy as np"
   ]
  },
  {
   "cell_type": "code",
   "execution_count": null,
   "id": "2418d1b7-faa4-40c2-9cf6-a8b0931acc66",
   "metadata": {},
   "outputs": [],
   "source": [
    "repos = ['HDMF', 'PyNWB', 'MatNWB']\n",
    "commits = {r: CodecovInfo.get_pulls_or_commits(NWBGitInfo.GIT_REPOS[r], key='commits', state='all', branch=NWBGitInfo.GIT_REPOS[r].mainbranch) for r in repos}"
   ]
  },
  {
   "cell_type": "code",
   "execution_count": null,
   "id": "95a1115d-dcbc-4eac-a9d9-dd043fed978c",
   "metadata": {},
   "outputs": [],
   "source": [
    "fig, axes = plt.subplots(figsize=(8, len(repos)*4.2), \n",
    "                         nrows=len(repos), \n",
    "                         ncols=1, sharex=True, sharey=False, squeeze=True)\n",
    "plot_xlim= (datetime.strptime(\"2021-01-01\", \"%Y-%m-%d\"), \n",
    "            datetime.today())\n",
    "fontsize = 16\n",
    "i = 0\n",
    "for k, v in commits.items():\n",
    "    timestamps, coverage, nocov = CodecovInfo.get_time_and_coverage(v)\n",
    "    ax = axes[i]\n",
    "    plt.sca(ax)\n",
    "    plt.fill_between(timestamps, coverage)\n",
    "    plt.plot(timestamps, coverage, '--o', color='black')\n",
    "    r = np.logical_and(timestamps >= plot_xlim[0] , timestamps <= plot_xlim[1])\n",
    "    plt.ylim(coverage[r].min()-1, coverage[r].max()+1)\n",
    "    plt.xlim(plot_xlim)\n",
    "    plt.ylabel(\"Coverage in %\", fontsize=fontsize)\n",
    "    plt.title(k, fontsize=fontsize)\n",
    "    plt.yticks(fontsize=fontsize)\n",
    "    plt.xticks(fontsize=fontsize, rotation=45)\n",
    "    i += 1\n",
    "plt.tight_layout()\n",
    "plt.savefig('nwb_software_codecov.pdf', dpi=300)\n",
    "plt.savefig('nwb_software_codecov.png', dpi=300)\n",
    "plt.show()"
   ]
  },
  {
   "cell_type": "code",
   "execution_count": null,
   "id": "7b71dfb1-5995-4282-a187-849791be4201",
   "metadata": {},
   "outputs": [],
   "source": []
  }
 ],
 "metadata": {
  "kernelspec": {
   "display_name": "Python 3",
   "language": "python",
   "name": "python3"
  },
  "language_info": {
   "codemirror_mode": {
    "name": "ipython",
    "version": 3
   },
   "file_extension": ".py",
   "mimetype": "text/x-python",
   "name": "python",
   "nbconvert_exporter": "python",
   "pygments_lexer": "ipython3",
   "version": "3.8.10"
  }
 },
 "nbformat": 4,
 "nbformat_minor": 5
}
