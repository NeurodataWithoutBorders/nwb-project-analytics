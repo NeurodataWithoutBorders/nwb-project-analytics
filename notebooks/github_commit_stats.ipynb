{
 "cells": [
  {
   "cell_type": "code",
   "execution_count": null,
   "id": "e1aba3f6-5531-4b0a-90f8-4200bd79edb2",
   "metadata": {},
   "outputs": [],
   "source": [
    "from nwb_project_analytics.gitstats import NWBGitInfo, GitRepos, GitRepo\n",
    "from nwb_project_analytics.renderstats import RenderCommitStats"
   ]
  },
  {
   "cell_type": "code",
   "execution_count": null,
   "id": "e916791b-5fd8-46be-ac20-de7b7b4521c4",
   "metadata": {},
   "outputs": [],
   "source": [
    "import os\n",
    "from github import Github, Label\n",
    "import pandas as pd\n",
    "from tqdm.notebook import tqdm\n",
    "from datetime import datetime\n",
    "from collections import defaultdict\n",
    "import numpy as np\n",
    "from matplotlib import pyplot as plt\n",
    "%matplotlib inline"
   ]
  },
  {
   "cell_type": "markdown",
   "id": "02b9e37b-021b-4ace-875a-85967f1a6950",
   "metadata": {},
   "source": [
    "# Configure inputs"
   ]
  },
  {
   "cell_type": "code",
   "execution_count": null,
   "id": "01d7a712-b486-41fe-8eb9-8ad528aeee59",
   "metadata": {},
   "outputs": [],
   "source": [
    "# save results to\n",
    "output_dir = os.path.join(os.getcwd(), 'plots/')  \n",
    "# save figures\n",
    "save_figs = True\n",
    "# exclude issues raised by core devs from response-time analysis\n",
    "DEV_USERNAMES = NWBGitInfo.CORE_DEVELOPERS \n",
    "# which repos to use. \n",
    "# Set to NWBGitInfo.CORE_API_REPOS to use only main API NWB repos. \n",
    "# Set to NWBGitInfo.GIT_REPOS to use all main NWB 2 repos\n",
    "REPOS = GitRepos([(k, NWBGitInfo.GIT_REPOS[k]) for k in [\"PyNWB\", \n",
    "                                                         \"HDMF\", \n",
    "                                                         \"MatNWB\", \n",
    "                                                         \"NWB_Schema\",\n",
    "                                                         \"NWBInspector\",\n",
    "                                                         \"NWBWidgets\",\n",
    "                                                         \"HDMF_Zarr\",\n",
    "                                                         \"HDMF_Common_Schema\",\n",
    "                                                         \"HDMF_DocUtils\"]])\n",
    "# Set datetime to filter issues older than START. E.g., set to  datetime(2021, 5, 1)\n",
    "START = datetime(2022, 1, 1) # NWBGitInfo.NWB1_DEPRECATION_DATE\n",
    "start_str = START.strftime(\"%Y-%m-%d\")\n",
    "end_str = datetime.now().strftime(\"%Y-%m-%d\")"
   ]
  },
  {
   "cell_type": "markdown",
   "id": "7c803e12-42e2-48d3-aaa9-180c5e9d58d2",
   "metadata": {},
   "source": [
    "We need an API key from GitHub to access the API. See https://docs.github.com/en/github/authenticating-to-github/keeping-your-account-and-data-secure/creating-a-personal-access-token how to generate an access token.\n",
    "\n",
    "**WARNING:** Never check in a token to the repo\n",
    "**WARNING:** Only use tokens with read only access (never write access) to avoid accidental changes to the repo"
   ]
  },
  {
   "cell_type": "code",
   "execution_count": null,
   "id": "23909843-ff57-4a48-86bd-603dcd68e957",
   "metadata": {},
   "outputs": [],
   "source": [
    "with open('ghk.txt', 'r') as f:\n",
    "    API_KEY = f.read().rstrip(\"\\n\")\n",
    "g = Github(API_KEY)"
   ]
  },
  {
   "cell_type": "markdown",
   "id": "f9e3bac1-afa3-44a1-a175-43bab5803d21",
   "metadata": {},
   "source": [
    "# Compile commit statistics as dataframe"
   ]
  },
  {
   "cell_type": "code",
   "execution_count": null,
   "id": "d6abfa53-c822-421a-955c-3c68848f5824",
   "metadata": {},
   "outputs": [],
   "source": [
    "commits_dfs = {repo: repo.get_commits_as_dataframe(since=START, github_obj=g, tqdm=tqdm)\n",
    "               for repo in tqdm(REPOS.values(), position=0, desc='repos')}"
   ]
  },
  {
   "cell_type": "code",
   "execution_count": null,
   "id": "8e3d6c8e-b52c-444f-b294-7f48e46f9136",
   "metadata": {},
   "outputs": [],
   "source": [
    "cumulative = False\n",
    "for repo, cdf in commits_dfs.items():\n",
    "    if cumulative:\n",
    "        fig, ax = RenderCommitStats.plot_commit_cumulative_additions_and_deletions(\n",
    "            commits=cdf,\n",
    "            repo_name=repo.repo)\n",
    "    else:\n",
    "        fig, ax = RenderCommitStats.plot_commit_additions_and_deletions(\n",
    "            commits=cdf,\n",
    "            repo_name=repo.repo,\n",
    "            xaxis_dates=False,\n",
    "            bar_width=0.9,\n",
    "            color_additions=RenderCommitStats.COLOR_ADDITIONS,\n",
    "            color_deletions=RenderCommitStats.COLOR_DELETIONS,\n",
    "            xticks_rotate=90\n",
    "        )\n",
    "    if save_figs:\n",
    "        plt.savefig(os.path.join(output_dir, '%s_commit_add_delete_stats_%s_%s.pdf' % (repo.repo, start_str, end_str)))\n",
    "        plt.savefig(os.path.join(output_dir, '%s_commit_add_delete_stats_%s_%s.png' % (repo.repo, start_str, end_str)))\n",
    "    plt.show()"
   ]
  },
  {
   "cell_type": "code",
   "execution_count": null,
   "id": "b47af987-db48-402d-87b5-7e2e9617a09a",
   "metadata": {},
   "outputs": [],
   "source": [
    "fig, ax =  RenderCommitStats.plot_commit_additions_and_deletions_summary(\n",
    "    commits=commits_dfs,\n",
    "    bar_width=0.8,\n",
    "    color_additions=RenderCommitStats.COLOR_ADDITIONS,\n",
    "    color_deletions=RenderCommitStats.COLOR_DELETIONS,\n",
    "    xticks_rotate= 45,\n",
    "    start_date = START,\n",
    "    end_date = datetime.now()\n",
    ")\n",
    "plt.tight_layout()\n",
    "if save_figs:\n",
    "    plt.savefig(os.path.join(output_dir, 'NWB_ALL_commit_add_delete_stats_%s_%s.pdf' % (start_str, end_str)))\n",
    "    plt.savefig(os.path.join(output_dir, 'NWB_ALL_commit_add_delete_stats_%s_%s.png' % (start_str, end_str)))\n",
    "plt.show()"
   ]
  },
  {
   "cell_type": "code",
   "execution_count": null,
   "id": "9950cb88-5acf-4a32-8a3a-172d34c747d5",
   "metadata": {},
   "outputs": [],
   "source": []
  },
  {
   "cell_type": "code",
   "execution_count": null,
   "id": "8d5fcd70-70b7-4feb-aca8-6c622dbfbb49",
   "metadata": {},
   "outputs": [],
   "source": []
  }
 ],
 "metadata": {
  "kernelspec": {
   "display_name": "Python 3 (ipykernel)",
   "language": "python",
   "name": "python3"
  },
  "language_info": {
   "codemirror_mode": {
    "name": "ipython",
    "version": 3
   },
   "file_extension": ".py",
   "mimetype": "text/x-python",
   "name": "python",
   "nbconvert_exporter": "python",
   "pygments_lexer": "ipython3",
   "version": "3.9.7"
  }
 },
 "nbformat": 4,
 "nbformat_minor": 5
}
