{
 "cells": [
  {
   "cell_type": "code",
   "execution_count": null,
   "metadata": {},
   "outputs": [],
   "source": [
    "from nwb_project_analytics.gitstats import NWBGitInfo, GitHubRepoInfo\n",
    "from nwb_project_analytics.renderstats import plot_release_timeline, plot_multiple_release_timeslines"
   ]
  },
  {
   "cell_type": "code",
   "execution_count": null,
   "metadata": {},
   "outputs": [],
   "source": [
    "import os \n",
    "import git\n",
    "import requests\n",
    "from datetime import datetime, timedelta\n",
    "from collections import OrderedDict\n",
    "import numpy as np\n",
    "from matplotlib import pyplot as plt\n",
    "import matplotlib.dates as mdates\n",
    "import time\n",
    "%matplotlib inline\n",
    "\n",
    "plot_dir = os.path.join(os.getcwd(), 'plots')"
   ]
  },
  {
   "cell_type": "code",
   "execution_count": null,
   "metadata": {},
   "outputs": [],
   "source": [
    "github_repo_infos = NWBGitInfo.GIT_REPOS.get_info_objects()\n",
    "\n",
    "# Select main repos for plotting\n",
    "select_github_repo_infos = OrderedDict(\n",
    "    [(k, github_repo_infos[k]) \n",
    "      for k in  ['PyNWB', 'HDMF', 'MatNWB', 'NWB_Schema', 'HDMF_Common_Schema']\n",
    "    ]\n",
    ")"
   ]
  },
  {
   "cell_type": "markdown",
   "metadata": {},
   "source": [
    "# Plot the release timeline"
   ]
  },
  {
   "cell_type": "code",
   "execution_count": null,
   "metadata": {},
   "outputs": [],
   "source": [
    "plot_multiple_release_timeslines(\n",
    "    github_repo_infos=select_github_repo_infos,\n",
    "    add_releases=None, # Use default of NWBGitInfo.MISSING_RELEASE_TAGS,\n",
    "    date_range=None,   # Use the default range of\n",
    "    month_intervals=2,\n",
    "    fontsize=16,\n",
    "    title=\"Timeline of NWB Release\")\n",
    "plt.savefig(os.path.join(plot_dir, 'nwb_software_releases_timeline.pdf'), dpi=300)\n",
    "plt.savefig(os.path.join(plot_dir, 'nwb_software_releases_timeline.png'), dpi=300)\n",
    "plt.show()"
   ]
  },
  {
   "cell_type": "markdown",
   "metadata": {},
   "source": [
    "# Plot timeline with code stats\n",
    "\n",
    "The following example illustrates plotting of code statistics along with the release history. This relies on the output of the cloc_code_stats.ipynb notebook."
   ]
  },
  {
   "cell_type": "code",
   "execution_count": null,
   "metadata": {},
   "outputs": [],
   "source": [
    "from nwb_project_analytics.codestats import GitCodeStats\n",
    "import pandas as pd\n",
    "\n",
    "cloc_data_dir = os.path.join(os.getcwd(), 'data')\n",
    "if GitCodeStats.cached(cloc_data_dir):\n",
    "    git_code_stats = GitCodeStats.from_cache(cloc_data_dir)\n",
    "    date_range = pd.date_range(start=NWBGitInfo.HDMF_START_DATE, \n",
    "                               end=git_code_stats.cloc_stats['HDMF'][0]['date'], \n",
    "                               freq=\"D\")\n",
    "    code_summary_stats = git_code_stats.compute_summary_stats(date_range=date_range) \n",
    "    # Clean up HDMF stats to ignore data from before HDMF was extracted from PyNWB\n",
    "    for k in code_summary_stats.keys():\n",
    "        code_summary_stats[k]['HDMF'][:NWBGitInfo.HDMF_START_DATE] = 0\n",
    "else:\n",
    "    git_code_stats = None\n",
    "    print(\"No cached code stats available\")"
   ]
  },
  {
   "cell_type": "code",
   "execution_count": null,
   "metadata": {},
   "outputs": [],
   "source": [
    "if git_code_stats:\n",
    "    k = 'HDMF'\n",
    "    curr_df = pd.DataFrame.from_dict({'code': code_summary_stats['codes'][k], \n",
    "                                      'blank': code_summary_stats['blanks'][k], \n",
    "                                      'comment': code_summary_stats['comments'][k]})\n",
    "    curr_df.index = date_range\n",
    "    ax = curr_df.plot.area(\n",
    "        figsize=(18,10), \n",
    "        stacked=True, \n",
    "        linewidth=0, \n",
    "        fontsize=16)\n",
    "    \n",
    "    # Choose some nice levels\n",
    "    names, dates = github_repo_infos[k].get_release_names_and_dates()\n",
    "    version_jumps = GitHubRepoInfo.get_version_jump_from_tags(names)\n",
    "    levels = []\n",
    "    curr_minor = 5000\n",
    "    curr_patch = 700\n",
    "    for n in names:\n",
    "        if version_jumps[n] == \"major\":\n",
    "            levels.append(8000)\n",
    "        elif version_jumps[n] == \"minor\":\n",
    "            levels.append(curr_minor)\n",
    "            curr_minor += 1000\n",
    "            if curr_minor > 6000:\n",
    "                curr_minor = 5000\n",
    "        else:\n",
    "            levels.append(curr_patch)\n",
    "            curr_patch += 700\n",
    "            if curr_patch > 3000:\n",
    "                curr_patch = 1500\n",
    "    \n",
    "    ax.vlines(dates, 0, levels, color=\"white\")  # The vertical stems.\n",
    "    ax.plot(dates, np.zeros_like(dates), \"-o\",\n",
    "            color=\"k\", markerfacecolor=\"w\")  # Baseline and markers on it.\n",
    "    # annotate lines\n",
    "    for d, l, r in zip(dates, levels, names):\n",
    "        ax.annotate(r, xy=(d, l),\n",
    "                    xytext=(14+2, np.sign(l)*3), textcoords=\"offset points\",\n",
    "                    horizontalalignment=\"right\",\n",
    "                    verticalalignment=\"bottom\" if l > 0 else \"top\",\n",
    "                    fontsize=20 if version_jumps[r] == \"major\" else 16 if version_jumps[r] == \"minor\" else 12,\n",
    "                    color='white')\n",
    "\n",
    "    plt.legend(loc=2, prop={'size': 16})\n",
    "    plt.ylabel('Lines of Code (CLOC)', fontsize=16)\n",
    "    plt.grid(color='black', linestyle='--', linewidth=0.7, axis='both')\n",
    "    plt.title(\"Lines of Code: %s\" % k, fontsize=20)\n",
    "    plt.tight_layout()\n",
    "    plt.show()\n"
   ]
  },
  {
   "cell_type": "code",
   "execution_count": null,
   "metadata": {},
   "outputs": [],
   "source": []
  }
 ],
 "metadata": {
  "kernelspec": {
   "display_name": "Python 3 (ipykernel)",
   "language": "python",
   "name": "python3"
  },
  "language_info": {
   "codemirror_mode": {
    "name": "ipython",
    "version": 3
   },
   "file_extension": ".py",
   "mimetype": "text/x-python",
   "name": "python",
   "nbconvert_exporter": "python",
   "pygments_lexer": "ipython3",
   "version": "3.9.7"
  }
 },
 "nbformat": 4,
 "nbformat_minor": 4
}
