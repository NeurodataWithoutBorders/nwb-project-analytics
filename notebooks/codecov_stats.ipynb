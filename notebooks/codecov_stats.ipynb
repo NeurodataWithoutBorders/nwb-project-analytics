{
 "cells": [
  {
   "cell_type": "code",
   "execution_count": null,
   "id": "b55de7dd-9d9f-4f0e-81b7-f70ec9aeb402",
   "metadata": {},
   "outputs": [],
   "source": [
    "from nwb_project_analytics.gitstats import NWBGitInfo\n",
    "from nwb_project_analytics.codecovstats import CodecovInfo\n",
    "from nwb_project_analytics.renderstats import RenderCodecovInfo"
   ]
  },
  {
   "cell_type": "code",
   "execution_count": null,
   "id": "4860c3f0-61e6-412d-878a-97e304b8546f",
   "metadata": {},
   "outputs": [],
   "source": [
    "import os \n",
    "import sys\n",
    "from datetime import datetime\n",
    "from matplotlib import pyplot as plt\n",
    "import numpy as np"
   ]
  },
  {
   "cell_type": "code",
   "execution_count": null,
   "id": "b8e32192-4af5-4819-9ace-b6a3faf7b0cd",
   "metadata": {},
   "outputs": [],
   "source": [
    "# Repos to plot\n",
    "repos = ['HDMF', 'PyNWB', 'MatNWB', 'NWBInspector']\n",
    "# Tuple of datatime objects defining the time-range of the x-axis.\n",
    "plot_xlim= (NWBGitInfo.NWB2_FIRST_STABLE_RELEASE, # datetime.strptime(\"2020-01-01\", \"%Y-%m-%d\"), \n",
    "            datetime.today())\n",
    "# Fontsize for axis labels, ticks, and title\n",
    "fontsize = 16\n",
    "# Base name of the file(s) where the plots should eb saved to. Set to None to only show but not save the plots.\n",
    "basefilename=  os.path.join(os.getcwd(), 'plots/nwb_software_codecov')"
   ]
  },
  {
   "cell_type": "code",
   "execution_count": null,
   "id": "2418d1b7-faa4-40c2-9cf6-a8b0931acc66",
   "metadata": {},
   "outputs": [],
   "source": [
    "commits = {r: CodecovInfo.get_pulls_or_commits(NWBGitInfo.GIT_REPOS[r], \n",
    "                                               key='commits', \n",
    "                                               state='all', \n",
    "                                               branch=NWBGitInfo.GIT_REPOS[r].mainbranch) \n",
    "           for r in repos}"
   ]
  },
  {
   "cell_type": "code",
   "execution_count": null,
   "id": "e416aa1f-b9fe-4d3a-b749-d329ef160228",
   "metadata": {},
   "outputs": [],
   "source": [
    "RenderCodecovInfo.plot_codecov_individual(\n",
    "    codecovs=commits, \n",
    "    plot_xlim=plot_xlim, \n",
    "    fontsize=fontsize, \n",
    "    basefilename=basefilename)"
   ]
  },
  {
   "cell_type": "code",
   "execution_count": null,
   "id": "764d08e7-b0d3-4659-9c9b-557491c30dfd",
   "metadata": {},
   "outputs": [],
   "source": [
    "RenderCodecovInfo.plot_codecov_grid(\n",
    "    codecovs=commits, \n",
    "    plot_xlim=plot_xlim, \n",
    "    fontsize=fontsize, \n",
    "    basefilename=basefilename)"
   ]
  },
  {
   "cell_type": "code",
   "execution_count": null,
   "id": "95a1115d-dcbc-4eac-a9d9-dd043fed978c",
   "metadata": {},
   "outputs": [],
   "source": [
    "RenderCodecovInfo.plot_codecov_multiline(\n",
    "    codecovs=commits, \n",
    "    plot_xlim=plot_xlim, \n",
    "    fill_alpha=0.2, \n",
    "    fontsize=16,\n",
    "    figsize=(12,6))\n",
    "# save and display\n",
    "if basefilename is not None:\n",
    "    plt.savefig(basefilename + \"_mulitline\" + '.pdf', dpi=300)\n",
    "    plt.savefig(basefilename + \"_mulitline\" + '.png', dpi=300)\n",
    "plt.show()"
   ]
  },
  {
   "cell_type": "code",
   "execution_count": null,
   "id": "e76b1c7d-d2ee-416d-9c07-3c6f1aa15b61",
   "metadata": {},
   "outputs": [],
   "source": []
  },
  {
   "cell_type": "code",
   "execution_count": null,
   "id": "412b1c1f-c91b-49a0-b27f-c237e91d9fb0",
   "metadata": {},
   "outputs": [],
   "source": []
  }
 ],
 "metadata": {
  "kernelspec": {
   "display_name": "Python 3 (ipykernel)",
   "language": "python",
   "name": "python3"
  },
  "language_info": {
   "codemirror_mode": {
    "name": "ipython",
    "version": 3
   },
   "file_extension": ".py",
   "mimetype": "text/x-python",
   "name": "python",
   "nbconvert_exporter": "python",
   "pygments_lexer": "ipython3",
   "version": "3.9.7"
  }
 },
 "nbformat": 4,
 "nbformat_minor": 5
}
