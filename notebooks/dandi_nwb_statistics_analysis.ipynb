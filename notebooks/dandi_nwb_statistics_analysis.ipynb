{
 "cells": [
  {
   "cell_type": "code",
   "execution_count": 1,
   "id": "c9888113-0dfd-456d-bf5b-8918e750bbba",
   "metadata": {},
   "outputs": [],
   "source": [
    "import requests\n",
    "import textwrap\n",
    "import pandas as pd\n",
    "import matplotlib.pyplot as plt\n",
    "import numpy as np\n",
    "import seaborn as sns\n",
    "\n",
    "from datetime import datetime\n",
    "from bisect import bisect\n",
    "from tqdm import tqdm\n",
    "from matplotlib import rcParams\n",
    "from dandi.dandiapi import DandiAPIClient\n",
    "from collections import defaultdict\n",
    "from scipy.optimize import curve_fit\n",
    "\n",
    "# Ensure text is stored in a way Illustrator can edit\n",
    "rcParams['pdf.fonttype'] = 42  \n",
    "plt.rcParams['font.sans-serif'] = ['Arial']\n",
    "plt.rcParams['font.family'] = 'sans-serif'"
   ]
  },
  {
   "cell_type": "code",
   "execution_count": null,
   "id": "fd415e8b-4223-4868-9341-6987f3ad4530",
   "metadata": {},
   "outputs": [
    {
     "name": "stderr",
     "output_type": "stream",
     "text": [
      "100%|██████████| 690/690 [02:29<00:00,  4.63it/s]\n"
     ]
    }
   ],
   "source": [
    "client = DandiAPIClient()\n",
    "\n",
    "dandisets = list(client.get_dandisets())\n",
    "\n",
    "neurodata_type_map = dict(\n",
    "    ecephys=[\"LFP\", \"Units\", \"ElectricalSeries\"],\n",
    "    ophys=[\"PlaneSegmentation\", \"TwoPhotonSeries\", \"ImageSegmentation\"],\n",
    "    icephys=[\n",
    "        \"PatchClampSeries\",\n",
    "        \"VoltageClampSeries\",\n",
    "        \"CurrentClampSeries\",\n",
    "        \"CurrentClampStimulusSeries\",\n",
    "    ],\n",
    ")\n",
    "\n",
    "def is_nwb(metadata):\n",
    "    return any(\n",
    "        x['identifier'] == 'RRID:SCR_015242'\n",
    "        for x in metadata['assetsSummary'].get('dataStandard', {})\n",
    "    )\n",
    "\n",
    "def has_related_publication(metadata):\n",
    "    return \"relatedResource\" in metadata and any(x.get(\"relation\") == \"dcite:IsDescribedBy\" for x in metadata[\"relatedResource\"])\n",
    "\n",
    "data = defaultdict(list)\n",
    "for dandiset in tqdm(dandisets):\n",
    "    dandiset = dandiset.for_version(\"draft\")\n",
    "    identifier = dandiset.identifier\n",
    "    metadata = dandiset.get_raw_metadata()\n",
    "    \n",
    "    if not is_nwb(metadata) or not dandiset.draft_version.size:\n",
    "        continue\n",
    "    data[\"identifier\"].append(identifier)\n",
    "    data[\"created\"].append(dandiset.created)\n",
    "    data[\"modified\"].append(dandiset.modified)\n",
    "    data[\"size\"].append(dandiset.draft_version.size)\n",
    "    if \"species\" in metadata[\"assetsSummary\"] and len(metadata[\"assetsSummary\"][\"species\"]):\n",
    "        data[\"species\"].append(metadata[\"assetsSummary\"][\"species\"][0][\"name\"])\n",
    "    else:\n",
    "        data[\"species\"].append(np.nan)\n",
    "        \n",
    "    data[\"nauthors\"].append(\n",
    "        sum(x.get('schemaKey',[]) == \"Person\" for x in metadata[\"contributor\"]) if \"contributor\" in metadata else 0\n",
    "    )\n",
    "    \n",
    "    \n",
    "    for modality, ndtypes in neurodata_type_map.items():\n",
    "        data[modality].append(\n",
    "            any(x in ndtypes for x in metadata[\"assetsSummary\"][\"variableMeasured\"])\n",
    "        )\n",
    "    \n",
    "    data[\"numberOfSubjects\"].append(metadata[\"assetsSummary\"].get(\"numberOfSubjects\", np.nan))\n",
    "    data[\"numberOfFiles\"].append(metadata[\"assetsSummary\"].get(\"numberOfFiles\", np.nan))        \n",
    "    data[\"has_related_pub\"].append(has_related_publication(metadata))"
   ]
  },
  {
   "cell_type": "code",
   "execution_count": 3,
   "id": "28a64895-1003-461e-aa2c-df805edea13e",
   "metadata": {},
   "outputs": [],
   "source": [
    "df = pd.DataFrame.from_dict(data)"
   ]
  },
  {
   "cell_type": "code",
   "execution_count": 4,
   "id": "33746424-5b19-4100-aea7-0ce20aa91a6a",
   "metadata": {},
   "outputs": [
    {
     "data": {
      "application/vnd.microsoft.datawrangler.viewer.v0+json": {
       "columns": [
        {
         "name": "index",
         "rawType": "int64",
         "type": "integer"
        },
        {
         "name": "identifier",
         "rawType": "object",
         "type": "string"
        },
        {
         "name": "created",
         "rawType": "datetime64[ns, UTC]",
         "type": "unknown"
        },
        {
         "name": "modified",
         "rawType": "datetime64[ns, UTC]",
         "type": "unknown"
        },
        {
         "name": "size",
         "rawType": "int64",
         "type": "integer"
        },
        {
         "name": "species",
         "rawType": "object",
         "type": "unknown"
        },
        {
         "name": "nauthors",
         "rawType": "int64",
         "type": "integer"
        },
        {
         "name": "ecephys",
         "rawType": "bool",
         "type": "boolean"
        },
        {
         "name": "ophys",
         "rawType": "bool",
         "type": "boolean"
        },
        {
         "name": "icephys",
         "rawType": "bool",
         "type": "boolean"
        },
        {
         "name": "numberOfSubjects",
         "rawType": "float64",
         "type": "float"
        },
        {
         "name": "numberOfFiles",
         "rawType": "int64",
         "type": "integer"
        },
        {
         "name": "has_related_pub",
         "rawType": "bool",
         "type": "boolean"
        }
       ],
       "ref": "bf09e150-72ea-4b8a-bbd3-02cb8166cc78",
       "rows": [
        [
         "0",
         "000003",
         "2020-03-15 22:56:55.655000+00:00",
         "2020-11-06 17:20:30.673000+00:00",
         "2559248010229",
         "House mouse",
         "4",
         "True",
         "False",
         "False",
         "16.0",
         "101",
         "True"
        ],
        [
         "1",
         "000004",
         "2020-03-16 21:48:04.265000+00:00",
         "2020-10-03 07:01:25.356000+00:00",
         "6197474020",
         "Human",
         "13",
         "True",
         "False",
         "False",
         "59.0",
         "87",
         "True"
        ],
        [
         "2",
         "000005",
         "2020-03-16 22:52:44.757000+00:00",
         "2020-04-09 20:59:35.377000+00:00",
         "46436686324",
         "House mouse",
         "4",
         "True",
         "False",
         "True",
         "55.0",
         "148",
         "True"
        ],
        [
         "3",
         "000006",
         "2020-03-17 13:30:38.667000+00:00",
         "2020-04-09 21:00:01.759000+00:00",
         "139600500",
         "House mouse",
         "2",
         "True",
         "False",
         "False",
         "12.0",
         "53",
         "True"
        ],
        [
         "4",
         "000007",
         "2020-03-17 15:01:40.811000+00:00",
         "2022-11-22 00:21:36.001459+00:00",
         "199439472",
         "House mouse",
         "8",
         "True",
         "False",
         "False",
         "13.0",
         "54",
         "True"
        ],
        [
         "5",
         "000008",
         "2020-03-17 18:20:55.694000+00:00",
         "2021-07-06 12:50:34.290153+00:00",
         "11922334254",
         "House mouse",
         "17",
         "False",
         "False",
         "True",
         "266.0",
         "1328",
         "True"
        ],
        [
         "6",
         "000009",
         "2020-03-18 20:26:50.059000+00:00",
         "2020-04-09 21:00:26.423000+00:00",
         "12919706852",
         "House mouse",
         "6",
         "True",
         "False",
         "True",
         "31.0",
         "173",
         "True"
        ],
        [
         "7",
         "000010",
         "2020-03-19 15:44:00.241000+00:00",
         "2022-11-22 00:21:11.515608+00:00",
         "40006570644",
         "House mouse",
         "5",
         "True",
         "True",
         "False",
         "23.0",
         "158",
         "True"
        ],
        [
         "8",
         "000011",
         "2020-03-19 16:07:28.472000+00:00",
         "2020-04-09 21:01:42.210000+00:00",
         "32435325542",
         "House mouse",
         "4",
         "True",
         "False",
         "False",
         "19.0",
         "92",
         "True"
        ],
        [
         "9",
         "000012",
         "2020-03-19 16:21:49.854000+00:00",
         "2020-05-27 16:58:00.574000+00:00",
         "487524911",
         "Human",
         "2",
         "False",
         "False",
         "True",
         "4.0",
         "297",
         "False"
        ],
        [
         "10",
         "000013",
         "2020-03-19 16:26:21.576000+00:00",
         "2020-12-05 18:02:25.212000+00:00",
         "11408735292",
         "House mouse",
         "5",
         "False",
         "False",
         "True",
         "23.0",
         "52",
         "True"
        ],
        [
         "11",
         "000015",
         "2020-03-19 17:22:51.212000+00:00",
         "2020-04-10 14:57:48.649000+00:00",
         "17159727736",
         "House mouse",
         "4",
         "False",
         "True",
         "False",
         "6.0",
         "210",
         "True"
        ],
        [
         "12",
         "000016",
         "2020-03-19 19:10:05.697000+00:00",
         "2020-12-05 18:04:23.533000+00:00",
         "62572042499",
         null,
         "2",
         "False",
         "True",
         "False",
         "4.0",
         "135",
         "True"
        ],
        [
         "13",
         "000017",
         "2020-03-19 20:04:34.727000+00:00",
         "2020-12-05 18:05:08.353000+00:00",
         "14682586049",
         "House mouse",
         "5",
         "True",
         "False",
         "False",
         "10.0",
         "39",
         "True"
        ],
        [
         "14",
         "000019",
         "2020-04-22 15:04:04.005000+00:00",
         "2020-04-23 14:07:11.844000+00:00",
         "55585858956",
         "Human",
         "2",
         "True",
         "False",
         "False",
         "4.0",
         "31",
         "True"
        ],
        [
         "15",
         "000020",
         "2020-04-30 00:53:01.664000+00:00",
         "2023-03-10 20:03:31.536451+00:00",
         "141856436428",
         "House mouse",
         "1",
         "False",
         "False",
         "False",
         "1040.0",
         "4435",
         "False"
        ],
        [
         "16",
         "000021",
         "2020-05-26 16:47:47.341000+00:00",
         "2020-06-26 21:58:33.011000+00:00",
         "477562344354",
         "House mouse",
         "8",
         "True",
         "False",
         "False",
         "32.0",
         "214",
         "False"
        ],
        [
         "17",
         "000022",
         "2020-05-26 16:48:28.855000+00:00",
         "2020-06-26 21:57:39.972000+00:00",
         "374956840341",
         "House mouse",
         "8",
         "True",
         "False",
         "False",
         "26.0",
         "169",
         "False"
        ],
        [
         "18",
         "000023",
         "2020-05-26 19:01:32.401000+00:00",
         "2021-07-01 17:20:26.666434+00:00",
         "12401578899",
         "Human",
         "2",
         "False",
         "False",
         "False",
         "56.0",
         "318",
         "False"
        ],
        [
         "19",
         "000025",
         "2020-06-18 13:11:33.895000+00:00",
         "2021-12-01 17:45:04.584529+00:00",
         "13664814",
         "Rat",
         "0",
         "False",
         "False",
         "True",
         "1.0",
         "1",
         "False"
        ],
        [
         "20",
         "000027",
         "2020-07-08 21:54:42.543000+00:00",
         "2022-01-17 16:22:43.888215+00:00",
         "18792",
         "Rat",
         "1",
         "False",
         "False",
         "False",
         "1.0",
         "1",
         "False"
        ],
        [
         "21",
         "000028",
         "2020-07-26 21:11:42.917000+00:00",
         "2020-12-05 18:13:12.117000+00:00",
         "42942229688",
         "House mouse",
         "0",
         "True",
         "False",
         "False",
         "2.0",
         "3",
         "False"
        ],
        [
         "22",
         "000029",
         "2020-07-31 16:44:32.094000+00:00",
         "2024-09-20 17:14:24.169683+00:00",
         "39011876",
         "Rhesus monkey",
         "0",
         "True",
         "False",
         "False",
         "5.0",
         "5",
         "False"
        ],
        [
         "23",
         "000034",
         "2020-08-05 16:05:49.220000+00:00",
         "2023-02-07 13:50:56.620496+00:00",
         "74351014076",
         "House mouse",
         "7",
         "True",
         "False",
         "False",
         "4.0",
         "6",
         "True"
        ],
        [
         "24",
         "000035",
         "2020-08-07 16:00:21.992000+00:00",
         "2021-08-13 16:43:25.782853+00:00",
         "1656166654",
         "House mouse",
         "18",
         "False",
         "False",
         "True",
         "8.0",
         "185",
         "True"
        ],
        [
         "25",
         "000036",
         "2020-08-18 08:05:48.731000+00:00",
         "2023-06-07 21:39:40.590030+00:00",
         "79771339536",
         null,
         "2",
         "False",
         "True",
         "False",
         "9.0",
         "57",
         "False"
        ],
        [
         "26",
         "000037",
         "2020-08-25 20:45:51.826000+00:00",
         "2024-11-20 11:04:31.700369+00:00",
         "2484974036912",
         "House mouse",
         "5",
         "False",
         "True",
         "False",
         "13.0",
         "151",
         "True"
        ],
        [
         "27",
         "000039",
         "2020-09-12 16:39:16.192000+00:00",
         "2023-02-23 12:13:15.439193+00:00",
         "22607247880",
         "House mouse",
         "2",
         "True",
         "True",
         "False",
         "32.0",
         "100",
         "True"
        ],
        [
         "28",
         "000041",
         "2020-10-05 16:18:52.896000+00:00",
         "2021-02-04 21:30:12.812000+00:00",
         "154863459017",
         "Rat",
         "6",
         "True",
         "False",
         "False",
         "10.0",
         "22",
         "True"
        ],
        [
         "29",
         "000043",
         "2020-11-05 22:45:59.109000+00:00",
         "2020-12-05 18:32:36.151000+00:00",
         "3271279661",
         "House mouse",
         "4",
         "False",
         "False",
         "False",
         "22.0",
         "94",
         "False"
        ],
        [
         "30",
         "000044",
         "2020-11-14 23:49:43.396000+00:00",
         "2020-12-05 18:34:22.305000+00:00",
         "65708919583",
         "Rat",
         "3",
         "True",
         "False",
         "False",
         "4.0",
         "8",
         "True"
        ],
        [
         "31",
         "000045",
         "2020-11-17 13:49:29.314000+00:00",
         "2021-12-09 14:14:09.233523+00:00",
         "97844923040",
         "House mouse",
         "0",
         "False",
         "False",
         "False",
         "178.0",
         "6615",
         "True"
        ],
        [
         "32",
         "000048",
         "2020-12-08 20:01:18.361000+00:00",
         "2021-04-05 13:04:23.232000+00:00",
         "590267164",
         null,
         "12",
         "True",
         "True",
         "False",
         "1.0",
         "1",
         "False"
        ],
        [
         "33",
         "000049",
         "2020-12-10 16:33:45.474000+00:00",
         "2023-02-23 14:20:47.875976+00:00",
         "22211886496",
         "House mouse",
         "2",
         "True",
         "True",
         "False",
         "27.0",
         "78",
         "False"
        ],
        [
         "34",
         "000050",
         "2020-12-10 18:05:06.949000+00:00",
         "2022-10-03 19:16:00.945539+00:00",
         "26372579632",
         "House mouse",
         "0",
         "True",
         "True",
         "False",
         "18.0",
         "56",
         "False"
        ],
        [
         "35",
         "000051",
         "2020-12-21 16:07:31.227000+00:00",
         "2020-12-21 16:07:31.228000+00:00",
         "585926072",
         "Human",
         "0",
         "False",
         "False",
         "False",
         "1.0",
         "1",
         "False"
        ],
        [
         "36",
         "000053",
         "2020-12-22 18:29:52.301000+00:00",
         "2021-04-27 14:33:20.572614+00:00",
         "1393128766605",
         "House mouse",
         "7",
         "True",
         "False",
         "False",
         "34.0",
         "359",
         "True"
        ],
        [
         "37",
         "000054",
         "2021-01-08 01:41:37.563000+00:00",
         "2021-01-15 18:35:01.693000+00:00",
         "1959122435577",
         "House mouse",
         "2",
         "False",
         "True",
         "False",
         "10.0",
         "85",
         "True"
        ],
        [
         "38",
         "000055",
         "2021-01-08 22:39:31.075000+00:00",
         "2021-01-13 03:36:28.910000+00:00",
         "845869698341",
         "Human",
         "6",
         "True",
         "False",
         "False",
         "12.0",
         "55",
         "True"
        ],
        [
         "39",
         "000056",
         "2021-01-25 20:20:10.836000+00:00",
         "2021-01-25 20:24:17.701000+00:00",
         "207733008367",
         "House mouse",
         "5",
         "True",
         "False",
         "False",
         "7.0",
         "40",
         "True"
        ],
        [
         "40",
         "000059",
         "2021-02-21 20:41:43.356000+00:00",
         "2024-02-25 14:24:16.009056+00:00",
         "2935390229648",
         "Rat",
         "3",
         "True",
         "False",
         "False",
         "5.0",
         "100",
         "True"
        ],
        [
         "41",
         "000060",
         "2021-03-11 23:35:18.872000+00:00",
         "2021-03-12 04:54:48.431000+00:00",
         "1009087545",
         "House mouse",
         "2",
         "True",
         "False",
         "False",
         "9.0",
         "98",
         "False"
        ],
        [
         "42",
         "000061",
         "2021-03-17 17:56:38.739000+00:00",
         "2021-03-17 17:57:31.239000+00:00",
         "1952634651805",
         "Rat",
         "4",
         "True",
         "False",
         "False",
         "4.0",
         "40",
         "True"
        ],
        [
         "43",
         "000064",
         "2021-04-06 18:52:24.402000+00:00",
         "2021-04-06 18:52:24.403000+00:00",
         "218366752",
         null,
         "3",
         "False",
         "False",
         "False",
         "1.0",
         "1",
         "False"
        ],
        [
         "44",
         "000067",
         "2021-04-19 17:30:57.429000+00:00",
         "2021-04-19 17:30:57.431000+00:00",
         "94565736755",
         "Rat",
         "5",
         "True",
         "False",
         "False",
         "3.0",
         "28",
         "True"
        ],
        [
         "45",
         "000068",
         "2021-04-23 17:21:24.766850+00:00",
         "2021-04-23 17:21:43.761529+00:00",
         "362448",
         null,
         "0",
         "False",
         "False",
         "True",
         "1.0",
         "2",
         "False"
        ],
        [
         "46",
         "000070",
         "2021-05-05 10:28:31.757937+00:00",
         "2024-07-23 20:56:17.615127+00:00",
         "53340156657",
         "Rhesus monkey",
         "8",
         "True",
         "False",
         "False",
         "2.0",
         "9",
         "True"
        ],
        [
         "47",
         "000107",
         "2021-05-18 16:07:40.840082+00:00",
         "2021-05-18 16:07:40.840105+00:00",
         "39294842",
         null,
         "0",
         "False",
         "False",
         "False",
         null,
         "1",
         "False"
        ],
        [
         "48",
         "000109",
         "2021-06-08 00:45:52.383457+00:00",
         "2021-07-01 17:20:38.718698+00:00",
         "14212577893",
         "Human",
         "2",
         "False",
         "False",
         "False",
         "39.0",
         "350",
         "False"
        ],
        [
         "49",
         "000114",
         "2021-06-28 15:06:36.176036+00:00",
         "2023-11-21 20:53:05.321412+00:00",
         "387202363343",
         "House mouse",
         "27",
         "True",
         "False",
         "False",
         "11.0",
         "30",
         "True"
        ]
       ],
       "shape": {
        "columns": 12,
        "rows": 408
       }
      },
      "text/html": [
       "<div>\n",
       "<style scoped>\n",
       "    .dataframe tbody tr th:only-of-type {\n",
       "        vertical-align: middle;\n",
       "    }\n",
       "\n",
       "    .dataframe tbody tr th {\n",
       "        vertical-align: top;\n",
       "    }\n",
       "\n",
       "    .dataframe thead th {\n",
       "        text-align: right;\n",
       "    }\n",
       "</style>\n",
       "<table border=\"1\" class=\"dataframe\">\n",
       "  <thead>\n",
       "    <tr style=\"text-align: right;\">\n",
       "      <th></th>\n",
       "      <th>identifier</th>\n",
       "      <th>created</th>\n",
       "      <th>modified</th>\n",
       "      <th>size</th>\n",
       "      <th>species</th>\n",
       "      <th>nauthors</th>\n",
       "      <th>ecephys</th>\n",
       "      <th>ophys</th>\n",
       "      <th>icephys</th>\n",
       "      <th>numberOfSubjects</th>\n",
       "      <th>numberOfFiles</th>\n",
       "      <th>has_related_pub</th>\n",
       "    </tr>\n",
       "  </thead>\n",
       "  <tbody>\n",
       "    <tr>\n",
       "      <th>0</th>\n",
       "      <td>000003</td>\n",
       "      <td>2020-03-15 22:56:55.655000+00:00</td>\n",
       "      <td>2020-11-06 17:20:30.673000+00:00</td>\n",
       "      <td>2559248010229</td>\n",
       "      <td>House mouse</td>\n",
       "      <td>4</td>\n",
       "      <td>True</td>\n",
       "      <td>False</td>\n",
       "      <td>False</td>\n",
       "      <td>16.0</td>\n",
       "      <td>101</td>\n",
       "      <td>True</td>\n",
       "    </tr>\n",
       "    <tr>\n",
       "      <th>1</th>\n",
       "      <td>000004</td>\n",
       "      <td>2020-03-16 21:48:04.265000+00:00</td>\n",
       "      <td>2020-10-03 07:01:25.356000+00:00</td>\n",
       "      <td>6197474020</td>\n",
       "      <td>Human</td>\n",
       "      <td>13</td>\n",
       "      <td>True</td>\n",
       "      <td>False</td>\n",
       "      <td>False</td>\n",
       "      <td>59.0</td>\n",
       "      <td>87</td>\n",
       "      <td>True</td>\n",
       "    </tr>\n",
       "    <tr>\n",
       "      <th>2</th>\n",
       "      <td>000005</td>\n",
       "      <td>2020-03-16 22:52:44.757000+00:00</td>\n",
       "      <td>2020-04-09 20:59:35.377000+00:00</td>\n",
       "      <td>46436686324</td>\n",
       "      <td>House mouse</td>\n",
       "      <td>4</td>\n",
       "      <td>True</td>\n",
       "      <td>False</td>\n",
       "      <td>True</td>\n",
       "      <td>55.0</td>\n",
       "      <td>148</td>\n",
       "      <td>True</td>\n",
       "    </tr>\n",
       "    <tr>\n",
       "      <th>3</th>\n",
       "      <td>000006</td>\n",
       "      <td>2020-03-17 13:30:38.667000+00:00</td>\n",
       "      <td>2020-04-09 21:00:01.759000+00:00</td>\n",
       "      <td>139600500</td>\n",
       "      <td>House mouse</td>\n",
       "      <td>2</td>\n",
       "      <td>True</td>\n",
       "      <td>False</td>\n",
       "      <td>False</td>\n",
       "      <td>12.0</td>\n",
       "      <td>53</td>\n",
       "      <td>True</td>\n",
       "    </tr>\n",
       "    <tr>\n",
       "      <th>4</th>\n",
       "      <td>000007</td>\n",
       "      <td>2020-03-17 15:01:40.811000+00:00</td>\n",
       "      <td>2022-11-22 00:21:36.001459+00:00</td>\n",
       "      <td>199439472</td>\n",
       "      <td>House mouse</td>\n",
       "      <td>8</td>\n",
       "      <td>True</td>\n",
       "      <td>False</td>\n",
       "      <td>False</td>\n",
       "      <td>13.0</td>\n",
       "      <td>54</td>\n",
       "      <td>True</td>\n",
       "    </tr>\n",
       "    <tr>\n",
       "      <th>...</th>\n",
       "      <td>...</td>\n",
       "      <td>...</td>\n",
       "      <td>...</td>\n",
       "      <td>...</td>\n",
       "      <td>...</td>\n",
       "      <td>...</td>\n",
       "      <td>...</td>\n",
       "      <td>...</td>\n",
       "      <td>...</td>\n",
       "      <td>...</td>\n",
       "      <td>...</td>\n",
       "      <td>...</td>\n",
       "    </tr>\n",
       "    <tr>\n",
       "      <th>403</th>\n",
       "      <td>001525</td>\n",
       "      <td>2025-07-02 14:10:11.180813+00:00</td>\n",
       "      <td>2025-07-02 14:10:11.180835+00:00</td>\n",
       "      <td>2509409908</td>\n",
       "      <td>Chinese hamster</td>\n",
       "      <td>1</td>\n",
       "      <td>False</td>\n",
       "      <td>False</td>\n",
       "      <td>False</td>\n",
       "      <td>7.0</td>\n",
       "      <td>49</td>\n",
       "      <td>False</td>\n",
       "    </tr>\n",
       "    <tr>\n",
       "      <th>404</th>\n",
       "      <td>001530</td>\n",
       "      <td>2025-07-04 18:16:13.067910+00:00</td>\n",
       "      <td>2025-07-04 18:21:21.930310+00:00</td>\n",
       "      <td>2595419678304</td>\n",
       "      <td>House mouse</td>\n",
       "      <td>1</td>\n",
       "      <td>True</td>\n",
       "      <td>False</td>\n",
       "      <td>False</td>\n",
       "      <td>14.0</td>\n",
       "      <td>105</td>\n",
       "      <td>False</td>\n",
       "    </tr>\n",
       "    <tr>\n",
       "      <th>405</th>\n",
       "      <td>001533</td>\n",
       "      <td>2025-07-10 16:38:59.955109+00:00</td>\n",
       "      <td>2025-07-10 16:38:59.955129+00:00</td>\n",
       "      <td>422941584596</td>\n",
       "      <td>House mouse</td>\n",
       "      <td>1</td>\n",
       "      <td>True</td>\n",
       "      <td>False</td>\n",
       "      <td>False</td>\n",
       "      <td>139.0</td>\n",
       "      <td>459</td>\n",
       "      <td>False</td>\n",
       "    </tr>\n",
       "    <tr>\n",
       "      <th>406</th>\n",
       "      <td>001534</td>\n",
       "      <td>2025-07-11 18:49:45.394857+00:00</td>\n",
       "      <td>2025-07-11 18:49:45.394880+00:00</td>\n",
       "      <td>6697463686</td>\n",
       "      <td>House mouse</td>\n",
       "      <td>5</td>\n",
       "      <td>False</td>\n",
       "      <td>False</td>\n",
       "      <td>True</td>\n",
       "      <td>41.0</td>\n",
       "      <td>116</td>\n",
       "      <td>False</td>\n",
       "    </tr>\n",
       "    <tr>\n",
       "      <th>407</th>\n",
       "      <td>001535</td>\n",
       "      <td>2025-07-13 04:37:45.082548+00:00</td>\n",
       "      <td>2025-07-13 04:37:45.082586+00:00</td>\n",
       "      <td>4773567412</td>\n",
       "      <td>Human</td>\n",
       "      <td>1</td>\n",
       "      <td>False</td>\n",
       "      <td>False</td>\n",
       "      <td>False</td>\n",
       "      <td>1.0</td>\n",
       "      <td>1</td>\n",
       "      <td>False</td>\n",
       "    </tr>\n",
       "  </tbody>\n",
       "</table>\n",
       "<p>408 rows × 12 columns</p>\n",
       "</div>"
      ],
      "text/plain": [
       "    identifier                          created  \\\n",
       "0       000003 2020-03-15 22:56:55.655000+00:00   \n",
       "1       000004 2020-03-16 21:48:04.265000+00:00   \n",
       "2       000005 2020-03-16 22:52:44.757000+00:00   \n",
       "3       000006 2020-03-17 13:30:38.667000+00:00   \n",
       "4       000007 2020-03-17 15:01:40.811000+00:00   \n",
       "..         ...                              ...   \n",
       "403     001525 2025-07-02 14:10:11.180813+00:00   \n",
       "404     001530 2025-07-04 18:16:13.067910+00:00   \n",
       "405     001533 2025-07-10 16:38:59.955109+00:00   \n",
       "406     001534 2025-07-11 18:49:45.394857+00:00   \n",
       "407     001535 2025-07-13 04:37:45.082548+00:00   \n",
       "\n",
       "                            modified           size          species  \\\n",
       "0   2020-11-06 17:20:30.673000+00:00  2559248010229      House mouse   \n",
       "1   2020-10-03 07:01:25.356000+00:00     6197474020            Human   \n",
       "2   2020-04-09 20:59:35.377000+00:00    46436686324      House mouse   \n",
       "3   2020-04-09 21:00:01.759000+00:00      139600500      House mouse   \n",
       "4   2022-11-22 00:21:36.001459+00:00      199439472      House mouse   \n",
       "..                               ...            ...              ...   \n",
       "403 2025-07-02 14:10:11.180835+00:00     2509409908  Chinese hamster   \n",
       "404 2025-07-04 18:21:21.930310+00:00  2595419678304      House mouse   \n",
       "405 2025-07-10 16:38:59.955129+00:00   422941584596      House mouse   \n",
       "406 2025-07-11 18:49:45.394880+00:00     6697463686      House mouse   \n",
       "407 2025-07-13 04:37:45.082586+00:00     4773567412            Human   \n",
       "\n",
       "     nauthors  ecephys  ophys  icephys  numberOfSubjects  numberOfFiles  \\\n",
       "0           4     True  False    False              16.0            101   \n",
       "1          13     True  False    False              59.0             87   \n",
       "2           4     True  False     True              55.0            148   \n",
       "3           2     True  False    False              12.0             53   \n",
       "4           8     True  False    False              13.0             54   \n",
       "..        ...      ...    ...      ...               ...            ...   \n",
       "403         1    False  False    False               7.0             49   \n",
       "404         1     True  False    False              14.0            105   \n",
       "405         1     True  False    False             139.0            459   \n",
       "406         5    False  False     True              41.0            116   \n",
       "407         1    False  False    False               1.0              1   \n",
       "\n",
       "     has_related_pub  \n",
       "0               True  \n",
       "1               True  \n",
       "2               True  \n",
       "3               True  \n",
       "4               True  \n",
       "..               ...  \n",
       "403            False  \n",
       "404            False  \n",
       "405            False  \n",
       "406            False  \n",
       "407            False  \n",
       "\n",
       "[408 rows x 12 columns]"
      ]
     },
     "execution_count": 4,
     "metadata": {},
     "output_type": "execute_result"
    }
   ],
   "source": [
    "species_replacement = {\n",
    "    \"Mus musculus - House mouse\": \"House mouse\",\n",
    "    \"Rattus norvegicus - Norway rat\": \"Rat\",\n",
    "    \"Brown rat\": \"Rat\",\n",
    "    \"Rat; norway rat; rats; brown rat\": \"Rat\",\n",
    "    \"Homo sapiens - Human\": \"Human\",\n",
    "    \"Drosophila melanogaster - Fruit fly\": \"Fruit fly\",\n",
    "    \"Danio rerio - Leopard danio\": \"Zebrafish\",\n",
    "    \"Macaca mulatta - Rhesus monkey\": \"Rhesus monkey\",\n",
    "    \"Danio rerio - Zebra fish\": \"Zebrafish\",\n",
    "    \"Macaca nemestrina - Pig-tailed macaque\": \"Pig-tailed macaque\",\n",
    "    \"Cricetulus griseus - Cricetulus aureus\": \"Chinese hamster\",\n",
    "    \"Caenorhabditis elegans\": \"C. elegans\",\n",
    "    \"Canis lupus familiaris - Dog\": \"Dog\",\n",
    "    \"Oryctolagus cuniculus - Rabbits\": \"Rabbit\",\n",
    "    \"Bos taurus - Cattle\": \"Cattle\",\n",
    "    \"Macaca nemestrina - Pigtail macaque\": \"Pig-tailed macaque\",\n",
    "    \"Macaca nemestrina\": \"Pig-tailed macaque\",\n",
    "    \"Ooceraea biroi - Clonal raider ant\": \"Clonal raider ant\",\n",
    "    \"Procambarus clarkii - Red swamp crayfish\": \"Red swamp crayfish\",\n",
    "    \"Callithrix jacchus - Common marmoset\": \"Common marmoset\",\n",
    "    \"Sus scrofa domesticus - Domestic pig\": \"Domestic pig\",\n",
    "    \"Taeniopygia guttata - Zebra finch\": \"Zebra finch\",\n",
    "    \"Meriones unguiculatus\": \"Mongolian gerbil\",\n",
    "    \"Unidentified\": np.nan\n",
    "}\n",
    "\n",
    "for key, val in species_replacement.items():\n",
    "    df[\"species\"] = df[\"species\"].replace(key, val)\n",
    "\n",
    "df"
   ]
  },
  {
   "cell_type": "code",
   "execution_count": 5,
   "id": "82bcaa6f-ffa7-4bda-93d9-f4d0a291a0c2",
   "metadata": {},
   "outputs": [
    {
     "data": {
      "text/plain": [
       "array(['House mouse', 'Human', nan, 'Rat', 'Rhesus monkey', 'Fruit fly',\n",
       "       'Zebrafish', 'Pig-tailed macaque', 'Chinese hamster', 'Dog',\n",
       "       'Clonal raider ant', 'C. elegans', 'Rabbit', 'Cattle',\n",
       "       'Red swamp crayfish', 'Domestic pig', 'Zebra finch',\n",
       "       'Common marmoset', 'Mongolian gerbil'], dtype=object)"
      ]
     },
     "execution_count": 5,
     "metadata": {},
     "output_type": "execute_result"
    }
   ],
   "source": [
    "df[\"species\"].unique()"
   ]
  },
  {
   "cell_type": "code",
   "execution_count": 6,
   "id": "db010794-1037-4fc2-a6ea-1a2e56652a86",
   "metadata": {},
   "outputs": [
    {
     "data": {
      "application/vnd.microsoft.datawrangler.viewer.v0+json": {
       "columns": [
        {
         "name": "species",
         "rawType": "object",
         "type": "string"
        },
        {
         "name": "count",
         "rawType": "int64",
         "type": "integer"
        }
       ],
       "ref": "93102c67-ca95-4976-a7ef-557cc1e5497b",
       "rows": [
        [
         "House mouse",
         "179"
        ],
        [
         "Rat",
         "55"
        ],
        [
         "Human",
         "49"
        ],
        [
         "Rhesus monkey",
         "36"
        ],
        [
         "Zebrafish",
         "21"
        ],
        [
         "Fruit fly",
         "11"
        ],
        [
         "Cattle",
         "9"
        ],
        [
         "Chinese hamster",
         "9"
        ],
        [
         "C. elegans",
         "9"
        ],
        [
         "Pig-tailed macaque",
         "7"
        ],
        [
         "Zebra finch",
         "2"
        ],
        [
         "Clonal raider ant",
         "2"
        ],
        [
         "Rabbit",
         "2"
        ],
        [
         "Red swamp crayfish",
         "1"
        ],
        [
         "Domestic pig",
         "1"
        ],
        [
         "Dog",
         "1"
        ],
        [
         "Common marmoset",
         "1"
        ],
        [
         "Mongolian gerbil",
         "1"
        ]
       ],
       "shape": {
        "columns": 1,
        "rows": 18
       }
      },
      "text/plain": [
       "species\n",
       "House mouse           179\n",
       "Rat                    55\n",
       "Human                  49\n",
       "Rhesus monkey          36\n",
       "Zebrafish              21\n",
       "Fruit fly              11\n",
       "Cattle                  9\n",
       "Chinese hamster         9\n",
       "C. elegans              9\n",
       "Pig-tailed macaque      7\n",
       "Zebra finch             2\n",
       "Clonal raider ant       2\n",
       "Rabbit                  2\n",
       "Red swamp crayfish      1\n",
       "Domestic pig            1\n",
       "Dog                     1\n",
       "Common marmoset         1\n",
       "Mongolian gerbil        1\n",
       "Name: count, dtype: int64"
      ]
     },
     "execution_count": 6,
     "metadata": {},
     "output_type": "execute_result"
    }
   ],
   "source": [
    "df[\"species\"].value_counts()"
   ]
  },
  {
   "cell_type": "code",
   "execution_count": 7,
   "id": "9928228b-aaf5-4a58-aa51-842b145cc4a8",
   "metadata": {},
   "outputs": [
    {
     "data": {
      "application/vnd.microsoft.datawrangler.viewer.v0+json": {
       "columns": [
        {
         "name": "year",
         "rawType": "int64",
         "type": "integer"
        },
        {
         "name": "event registrants",
         "rawType": "int64",
         "type": "integer"
        },
        {
         "name": "community tools",
         "rawType": "int64",
         "type": "integer"
        },
        {
         "name": "data reuse publications",
         "rawType": "int64",
         "type": "integer"
        },
        {
         "name": "consultations",
         "rawType": "int64",
         "type": "integer"
        }
       ],
       "ref": "7a974020-baea-46b1-abcd-9f0d6e3d4e3b",
       "rows": [
        [
         "2017",
         "30",
         "0",
         "6",
         "0"
        ],
        [
         "2018",
         "90",
         "1",
         "14",
         "0"
        ],
        [
         "2019",
         "176",
         "2",
         "22",
         "0"
        ],
        [
         "2020",
         "783",
         "5",
         "33",
         "0"
        ],
        [
         "2021",
         "1034",
         "8",
         "82",
         "35"
        ],
        [
         "2022",
         "1470",
         "16",
         "113",
         "68"
        ],
        [
         "2023",
         "1890",
         "27",
         "163",
         "108"
        ],
        [
         "2024",
         "2417",
         "30",
         "213",
         "134"
        ],
        [
         "2025",
         "2875",
         "35",
         "231",
         "139"
        ]
       ],
       "shape": {
        "columns": 4,
        "rows": 9
       }
      },
      "text/html": [
       "<div>\n",
       "<style scoped>\n",
       "    .dataframe tbody tr th:only-of-type {\n",
       "        vertical-align: middle;\n",
       "    }\n",
       "\n",
       "    .dataframe tbody tr th {\n",
       "        vertical-align: top;\n",
       "    }\n",
       "\n",
       "    .dataframe thead th {\n",
       "        text-align: right;\n",
       "    }\n",
       "</style>\n",
       "<table border=\"1\" class=\"dataframe\">\n",
       "  <thead>\n",
       "    <tr style=\"text-align: right;\">\n",
       "      <th></th>\n",
       "      <th>event registrants</th>\n",
       "      <th>community tools</th>\n",
       "      <th>data reuse publications</th>\n",
       "      <th>consultations</th>\n",
       "    </tr>\n",
       "    <tr>\n",
       "      <th>year</th>\n",
       "      <th></th>\n",
       "      <th></th>\n",
       "      <th></th>\n",
       "      <th></th>\n",
       "    </tr>\n",
       "  </thead>\n",
       "  <tbody>\n",
       "    <tr>\n",
       "      <th>2017</th>\n",
       "      <td>30</td>\n",
       "      <td>0</td>\n",
       "      <td>6</td>\n",
       "      <td>0</td>\n",
       "    </tr>\n",
       "    <tr>\n",
       "      <th>2018</th>\n",
       "      <td>90</td>\n",
       "      <td>1</td>\n",
       "      <td>14</td>\n",
       "      <td>0</td>\n",
       "    </tr>\n",
       "    <tr>\n",
       "      <th>2019</th>\n",
       "      <td>176</td>\n",
       "      <td>2</td>\n",
       "      <td>22</td>\n",
       "      <td>0</td>\n",
       "    </tr>\n",
       "    <tr>\n",
       "      <th>2020</th>\n",
       "      <td>783</td>\n",
       "      <td>5</td>\n",
       "      <td>33</td>\n",
       "      <td>0</td>\n",
       "    </tr>\n",
       "    <tr>\n",
       "      <th>2021</th>\n",
       "      <td>1034</td>\n",
       "      <td>8</td>\n",
       "      <td>82</td>\n",
       "      <td>35</td>\n",
       "    </tr>\n",
       "    <tr>\n",
       "      <th>2022</th>\n",
       "      <td>1470</td>\n",
       "      <td>16</td>\n",
       "      <td>113</td>\n",
       "      <td>68</td>\n",
       "    </tr>\n",
       "    <tr>\n",
       "      <th>2023</th>\n",
       "      <td>1890</td>\n",
       "      <td>27</td>\n",
       "      <td>163</td>\n",
       "      <td>108</td>\n",
       "    </tr>\n",
       "    <tr>\n",
       "      <th>2024</th>\n",
       "      <td>2417</td>\n",
       "      <td>30</td>\n",
       "      <td>213</td>\n",
       "      <td>134</td>\n",
       "    </tr>\n",
       "    <tr>\n",
       "      <th>2025</th>\n",
       "      <td>2875</td>\n",
       "      <td>35</td>\n",
       "      <td>231</td>\n",
       "      <td>139</td>\n",
       "    </tr>\n",
       "  </tbody>\n",
       "</table>\n",
       "</div>"
      ],
      "text/plain": [
       "      event registrants  community tools  data reuse publications  \\\n",
       "year                                                                \n",
       "2017                 30                0                        6   \n",
       "2018                 90                1                       14   \n",
       "2019                176                2                       22   \n",
       "2020                783                5                       33   \n",
       "2021               1034                8                       82   \n",
       "2022               1470               16                      113   \n",
       "2023               1890               27                      163   \n",
       "2024               2417               30                      213   \n",
       "2025               2875               35                      231   \n",
       "\n",
       "      consultations  \n",
       "year                 \n",
       "2017              0  \n",
       "2018              0  \n",
       "2019              0  \n",
       "2020              0  \n",
       "2021             35  \n",
       "2022             68  \n",
       "2023            108  \n",
       "2024            134  \n",
       "2025            139  "
      ]
     },
     "execution_count": 7,
     "metadata": {},
     "output_type": "execute_result"
    }
   ],
   "source": [
    "# read in u24 metrics which include event, consultation, and reuse statistics\n",
    "df_u24_metrics = pd.read_csv('nwb_statistics.csv', skiprows=1, index_col=0)\n",
    "\n",
    "# clean up metrics\n",
    "df_u24_metrics = (df_u24_metrics\n",
    "    .assign(consultations=lambda x: x['tool consultations'] + x['user consultations'])  # combine user and tool consultations\n",
    "    .drop([\"user consultations\", \"tool consultations\"], axis=1)  # TODO - combine allen + data reuse when updated\n",
    "    .cumsum())  # convert to cumulative sum\n",
    "df_u24_metrics"
   ]
  },
  {
   "cell_type": "code",
   "execution_count": 8,
   "id": "ffa0ad80-d09b-4a72-9ce8-f35421958c6d",
   "metadata": {
    "scrolled": true
   },
   "outputs": [],
   "source": [
    "## combine u24 and dandi metrics and group by year\n",
    "# n_dandisets\n",
    "n_dandisets = (df['created'].dt.year\n",
    "               .value_counts()\n",
    "               .sort_index()\n",
    "               .cumsum())\n",
    "\n",
    "# n_bytes of data\n",
    "n_terabytes = (df.groupby(df['modified'].dt.year)['size']\n",
    "               .sum()  # sum by year\n",
    "               .sort_index()  # should be sorted but just in case\n",
    "               .cumsum()/10**12)  # cumsum by year and convert to TB\n",
    "\n",
    "# n_sessions\n",
    "n_sessions = (df.groupby(df['modified'].dt.year)['numberOfFiles']\n",
    "               .sum()  # sum by year\n",
    "               .sort_index()  # should be sorted but just in case\n",
    "               .cumsum())  # cumsum by year\n",
    "\n",
    "# n_species\n",
    "unique_species = set()\n",
    "species_count = dict()\n",
    "for year, group in df.groupby(df['modified'].dt.year):\n",
    "    unique_species.update(group['species'])\n",
    "    species_count[year] = len(unique_species)\n",
    "n_species = pd.DataFrame(data=species_count.values(), index=species_count.keys(), columns=['species'])\n",
    "\n",
    "df_by_year = pd.concat([n_dandisets, n_terabytes, n_sessions, n_species, df_u24_metrics], axis=1)\n",
    "df_by_year = (df_by_year\n",
    "              .reset_index()\n",
    "              .rename(columns={'count': 'datasets on DANDI',\n",
    "                               'species':'species on DANDI',\n",
    "                               'numberOfFiles':'sessions on DANDI',\n",
    "                               'size': 'TBs on DANDI',\n",
    "                               'index': 'year'})\n",
    "             .sort_values('year')\n",
    "             .query('year >= 2020')  # just for viz purposes\n",
    "             .melt(id_vars=['year'], var_name='metric', value_name='value'))"
   ]
  },
  {
   "cell_type": "code",
   "execution_count": 9,
   "id": "2bb31238-1dd4-4170-aa84-7504bc21b103",
   "metadata": {
    "scrolled": true
   },
   "outputs": [
    {
     "data": {
      "image/png": "[encoded data removed]",
      "text/plain": [
       "<Figure size 981x900 with 8 Axes>"
      ]
     },
     "metadata": {},
     "output_type": "display_data"
    }
   ],
   "source": [
    "# plot the data by year\n",
    "colors = ['lightgrey'] * (len(df_by_year['year'].unique()) - 1) + ['steelblue']\n",
    "g = sns.catplot(data=df_by_year, x='year', y='value', kind='bar', hue='year',\n",
    "                col='metric', col_wrap=3, sharey=False, sharex=True,\n",
    "                height=3, palette=colors)\n",
    "\n",
    "def add_2025_text(data, **kwargs):\n",
    "    ax = plt.gca()\n",
    "    value_2025 = data[data['year'] == 2025]['value'].iloc[0]\n",
    "    text = f'{value_2025:,.0f} {ax.get_title()}'\n",
    "    wrapped_text = '\\n'.join(textwrap.wrap(text, width=15))\n",
    "    ax.text(0.1, 0.95, wrapped_text, \n",
    "            transform=ax.transAxes, \n",
    "            fontsize=12, \n",
    "            color='steelblue',\n",
    "            fontweight='bold',\n",
    "            ha='left', va='top')\n",
    "\n",
    "# update labels and text\n",
    "(g.set_axis_labels(\"year\", \"cumulative count\")\n",
    "  .set_titles(\"{col_name}\")\n",
    "  .map_dataframe(add_2025_text)\n",
    "  .tight_layout()\n",
    "  .despine(offset=5)\n",
    "  .fig.suptitle('NWB usage metrics over time')\n",
    "  )\n",
    "    \n",
    "# adjust legend and spacing\n",
    "plt.subplots_adjust(top=0.9)\n",
    "\n",
    "# save figure\n",
    "plt.savefig('key_usage_metrics_bar.pdf', format='pdf')"
   ]
  },
  {
   "cell_type": "code",
   "execution_count": 10,
   "id": "373ff3f9-c11a-44e5-8d6b-5c31c8d38a44",
   "metadata": {},
   "outputs": [
    {
     "name": "stderr",
     "output_type": "stream",
     "text": [
      "/var/folders/50/_vs4yj0n27jbxcv71kvzktqr0000gp/T/ipykernel_45255/4188303649.py:2: UserWarning: Converting to PeriodArray/Index representation will drop timezone information.\n",
      "  n_terabytes_by_month = (df.groupby(df['modified'].dt.to_period('M'))['size']\n",
      "/var/folders/50/_vs4yj0n27jbxcv71kvzktqr0000gp/T/ipykernel_45255/4188303649.py:7: UserWarning: Converting to PeriodArray/Index representation will drop timezone information.\n",
      "  n_dandisets_by_month = (df['created'].dt.to_period('M')\n",
      "/var/folders/50/_vs4yj0n27jbxcv71kvzktqr0000gp/T/ipykernel_45255/4188303649.py:12: UserWarning: Converting to PeriodArray/Index representation will drop timezone information.\n",
      "  n_sessions_by_month = (df.groupby(df['modified'].dt.to_period('M'))['numberOfFiles']\n"
     ]
    },
    {
     "data": {
      "application/vnd.microsoft.datawrangler.viewer.v0+json": {
       "columns": [
        {
         "name": "index",
         "rawType": "int64",
         "type": "integer"
        },
        {
         "name": "time",
         "rawType": "datetime64[ns]",
         "type": "datetime"
        },
        {
         "name": "metric",
         "rawType": "object",
         "type": "string"
        },
        {
         "name": "value",
         "rawType": "float64",
         "type": "float"
        }
       ],
       "ref": "123c55f0-e1c0-4383-bec4-bd610f815dd1",
       "rows": [
        [
         "0",
         "2020-04-01 00:00:00",
         "datasets on DANDI",
         "16.0"
        ],
        [
         "1",
         "2020-05-01 00:00:00",
         "datasets on DANDI",
         "19.0"
        ],
        [
         "2",
         "2020-06-01 00:00:00",
         "datasets on DANDI",
         "20.0"
        ],
        [
         "3",
         "2020-10-01 00:00:00",
         "datasets on DANDI",
         "29.0"
        ],
        [
         "4",
         "2020-11-01 00:00:00",
         "datasets on DANDI",
         "32.0"
        ],
        [
         "5",
         "2020-12-01 00:00:00",
         "datasets on DANDI",
         "37.0"
        ],
        [
         "6",
         "2021-01-01 00:00:00",
         "datasets on DANDI",
         "40.0"
        ],
        [
         "7",
         "2021-02-01 00:00:00",
         "datasets on DANDI",
         "41.0"
        ],
        [
         "8",
         "2021-03-01 00:00:00",
         "datasets on DANDI",
         "43.0"
        ],
        [
         "9",
         "2021-04-01 00:00:00",
         "datasets on DANDI",
         "46.0"
        ],
        [
         "10",
         "2021-05-01 00:00:00",
         "datasets on DANDI",
         "48.0"
        ],
        [
         "11",
         "2021-07-01 00:00:00",
         "datasets on DANDI",
         "52.0"
        ],
        [
         "12",
         "2021-08-01 00:00:00",
         "datasets on DANDI",
         "58.0"
        ],
        [
         "13",
         "2021-09-01 00:00:00",
         "datasets on DANDI",
         "62.0"
        ],
        [
         "14",
         "2021-10-01 00:00:00",
         "datasets on DANDI",
         "67.0"
        ],
        [
         "15",
         "2021-11-01 00:00:00",
         "datasets on DANDI",
         "71.0"
        ],
        [
         "16",
         "2021-12-01 00:00:00",
         "datasets on DANDI",
         "76.0"
        ],
        [
         "17",
         "2022-01-01 00:00:00",
         "datasets on DANDI",
         "81.0"
        ],
        [
         "18",
         "2022-02-01 00:00:00",
         "datasets on DANDI",
         "83.0"
        ],
        [
         "19",
         "2022-03-01 00:00:00",
         "datasets on DANDI",
         "85.0"
        ],
        [
         "20",
         "2022-04-01 00:00:00",
         "datasets on DANDI",
         "94.0"
        ],
        [
         "21",
         "2022-05-01 00:00:00",
         "datasets on DANDI",
         "103.0"
        ],
        [
         "22",
         "2022-07-01 00:00:00",
         "datasets on DANDI",
         "113.0"
        ],
        [
         "23",
         "2022-08-01 00:00:00",
         "datasets on DANDI",
         "114.0"
        ],
        [
         "24",
         "2022-09-01 00:00:00",
         "datasets on DANDI",
         "119.0"
        ],
        [
         "25",
         "2022-10-01 00:00:00",
         "datasets on DANDI",
         "121.0"
        ],
        [
         "26",
         "2022-11-01 00:00:00",
         "datasets on DANDI",
         "125.0"
        ],
        [
         "27",
         "2022-12-01 00:00:00",
         "datasets on DANDI",
         "127.0"
        ],
        [
         "28",
         "2023-01-01 00:00:00",
         "datasets on DANDI",
         "132.0"
        ],
        [
         "29",
         "2023-02-01 00:00:00",
         "datasets on DANDI",
         "136.0"
        ],
        [
         "30",
         "2023-03-01 00:00:00",
         "datasets on DANDI",
         "144.0"
        ],
        [
         "31",
         "2023-04-01 00:00:00",
         "datasets on DANDI",
         "154.0"
        ],
        [
         "32",
         "2023-05-01 00:00:00",
         "datasets on DANDI",
         "169.0"
        ],
        [
         "33",
         "2023-06-01 00:00:00",
         "datasets on DANDI",
         "176.0"
        ],
        [
         "34",
         "2023-07-01 00:00:00",
         "datasets on DANDI",
         "184.0"
        ],
        [
         "35",
         "2023-08-01 00:00:00",
         "datasets on DANDI",
         "186.0"
        ],
        [
         "36",
         "2023-09-01 00:00:00",
         "datasets on DANDI",
         "202.0"
        ],
        [
         "37",
         "2023-10-01 00:00:00",
         "datasets on DANDI",
         "210.0"
        ],
        [
         "38",
         "2023-11-01 00:00:00",
         "datasets on DANDI",
         "231.0"
        ],
        [
         "39",
         "2023-12-01 00:00:00",
         "datasets on DANDI",
         "238.0"
        ],
        [
         "40",
         "2024-01-01 00:00:00",
         "datasets on DANDI",
         "244.0"
        ],
        [
         "41",
         "2024-02-01 00:00:00",
         "datasets on DANDI",
         "247.0"
        ],
        [
         "42",
         "2024-03-01 00:00:00",
         "datasets on DANDI",
         "260.0"
        ],
        [
         "43",
         "2024-04-01 00:00:00",
         "datasets on DANDI",
         "269.0"
        ],
        [
         "44",
         "2024-05-01 00:00:00",
         "datasets on DANDI",
         "286.0"
        ],
        [
         "45",
         "2024-06-01 00:00:00",
         "datasets on DANDI",
         "308.0"
        ],
        [
         "46",
         "2024-07-01 00:00:00",
         "datasets on DANDI",
         "313.0"
        ],
        [
         "47",
         "2024-08-01 00:00:00",
         "datasets on DANDI",
         "322.0"
        ],
        [
         "48",
         "2024-09-01 00:00:00",
         "datasets on DANDI",
         "328.0"
        ],
        [
         "49",
         "2024-10-01 00:00:00",
         "datasets on DANDI",
         "336.0"
        ]
       ],
       "shape": {
        "columns": 3,
        "rows": 177
       }
      },
      "text/html": [
       "<div>\n",
       "<style scoped>\n",
       "    .dataframe tbody tr th:only-of-type {\n",
       "        vertical-align: middle;\n",
       "    }\n",
       "\n",
       "    .dataframe tbody tr th {\n",
       "        vertical-align: top;\n",
       "    }\n",
       "\n",
       "    .dataframe thead th {\n",
       "        text-align: right;\n",
       "    }\n",
       "</style>\n",
       "<table border=\"1\" class=\"dataframe\">\n",
       "  <thead>\n",
       "    <tr style=\"text-align: right;\">\n",
       "      <th></th>\n",
       "      <th>time</th>\n",
       "      <th>metric</th>\n",
       "      <th>value</th>\n",
       "    </tr>\n",
       "  </thead>\n",
       "  <tbody>\n",
       "    <tr>\n",
       "      <th>0</th>\n",
       "      <td>2020-04-01</td>\n",
       "      <td>datasets on DANDI</td>\n",
       "      <td>16.0</td>\n",
       "    </tr>\n",
       "    <tr>\n",
       "      <th>1</th>\n",
       "      <td>2020-05-01</td>\n",
       "      <td>datasets on DANDI</td>\n",
       "      <td>19.0</td>\n",
       "    </tr>\n",
       "    <tr>\n",
       "      <th>2</th>\n",
       "      <td>2020-06-01</td>\n",
       "      <td>datasets on DANDI</td>\n",
       "      <td>20.0</td>\n",
       "    </tr>\n",
       "    <tr>\n",
       "      <th>3</th>\n",
       "      <td>2020-10-01</td>\n",
       "      <td>datasets on DANDI</td>\n",
       "      <td>29.0</td>\n",
       "    </tr>\n",
       "    <tr>\n",
       "      <th>4</th>\n",
       "      <td>2020-11-01</td>\n",
       "      <td>datasets on DANDI</td>\n",
       "      <td>32.0</td>\n",
       "    </tr>\n",
       "    <tr>\n",
       "      <th>...</th>\n",
       "      <td>...</td>\n",
       "      <td>...</td>\n",
       "      <td>...</td>\n",
       "    </tr>\n",
       "    <tr>\n",
       "      <th>172</th>\n",
       "      <td>2025-03-01</td>\n",
       "      <td>sessions on DANDI</td>\n",
       "      <td>113728.0</td>\n",
       "    </tr>\n",
       "    <tr>\n",
       "      <th>173</th>\n",
       "      <td>2025-04-01</td>\n",
       "      <td>sessions on DANDI</td>\n",
       "      <td>116666.0</td>\n",
       "    </tr>\n",
       "    <tr>\n",
       "      <th>174</th>\n",
       "      <td>2025-05-01</td>\n",
       "      <td>sessions on DANDI</td>\n",
       "      <td>120319.0</td>\n",
       "    </tr>\n",
       "    <tr>\n",
       "      <th>175</th>\n",
       "      <td>2025-06-01</td>\n",
       "      <td>sessions on DANDI</td>\n",
       "      <td>122870.0</td>\n",
       "    </tr>\n",
       "    <tr>\n",
       "      <th>176</th>\n",
       "      <td>2025-07-01</td>\n",
       "      <td>sessions on DANDI</td>\n",
       "      <td>125703.0</td>\n",
       "    </tr>\n",
       "  </tbody>\n",
       "</table>\n",
       "<p>177 rows × 3 columns</p>\n",
       "</div>"
      ],
      "text/plain": [
       "          time             metric     value\n",
       "0   2020-04-01  datasets on DANDI      16.0\n",
       "1   2020-05-01  datasets on DANDI      19.0\n",
       "2   2020-06-01  datasets on DANDI      20.0\n",
       "3   2020-10-01  datasets on DANDI      29.0\n",
       "4   2020-11-01  datasets on DANDI      32.0\n",
       "..         ...                ...       ...\n",
       "172 2025-03-01  sessions on DANDI  113728.0\n",
       "173 2025-04-01  sessions on DANDI  116666.0\n",
       "174 2025-05-01  sessions on DANDI  120319.0\n",
       "175 2025-06-01  sessions on DANDI  122870.0\n",
       "176 2025-07-01  sessions on DANDI  125703.0\n",
       "\n",
       "[177 rows x 3 columns]"
      ]
     },
     "execution_count": 10,
     "metadata": {},
     "output_type": "execute_result"
    }
   ],
   "source": [
    "# plot the data by month for curve fit\n",
    "n_terabytes_by_month = (df.groupby(df['modified'].dt.to_period('M'))['size']\n",
    "               .sum()  # sum by year\n",
    "               .sort_index()  # should be sorted but just in case\n",
    "               .cumsum()/10**12)  # cumsum by year and convert to TB\n",
    "\n",
    "n_dandisets_by_month = (df['created'].dt.to_period('M')\n",
    "               .value_counts()\n",
    "               .sort_index()\n",
    "               .cumsum())\n",
    "\n",
    "n_sessions_by_month = (df.groupby(df['modified'].dt.to_period('M'))['numberOfFiles']\n",
    "               .sum()  # sum by year\n",
    "               .sort_index()  # should be sorted but just in case\n",
    "               .cumsum())  # cumsum by year\n",
    "\n",
    "df_by_month = pd.concat([n_dandisets_by_month, n_terabytes_by_month, n_sessions_by_month], axis=1)\n",
    "df_by_month\n",
    "df_by_month = (df_by_month\n",
    "              .reset_index()\n",
    "              .rename(columns={'count': 'datasets on DANDI',\n",
    "                               'numberOfFiles':'sessions on DANDI',\n",
    "                               'size': 'TBs on DANDI',\n",
    "                               'index': 'time'})\n",
    "              .assign(time=lambda x: x['time'].dt.to_timestamp())\n",
    "              .sort_values('time')\n",
    "              .dropna()\n",
    "              .melt(id_vars=['time'], var_name='metric', value_name='value'))\n",
    "df_by_month"
   ]
  },
  {
   "cell_type": "code",
   "execution_count": 11,
   "id": "f7b5c81d-048b-44fa-876f-32cf6f4014db",
   "metadata": {},
   "outputs": [
    {
     "data": {
      "image/png": "[encoded data removed]",
      "text/plain": [
       "<Figure size 900x300 with 3 Axes>"
      ]
     },
     "metadata": {},
     "output_type": "display_data"
    }
   ],
   "source": [
    "# plot the data metrics and a projection of future values\n",
    "def exponential_func(x, a, b, c):\n",
    "    return a * np.exp(b * x) + c\n",
    "\n",
    "def add_exponential_fit(data, **kwargs):\n",
    "    ax = plt.gca()\n",
    "    \n",
    "    # Convert datetime to numeric for fitting\n",
    "    x_data = data['time']\n",
    "    y_data = data['value'].values\n",
    "    x_numeric = (x_data - x_data.min()).dt.days.values\n",
    "    \n",
    "    # Fit exponential curve\n",
    "    popt, pcov = curve_fit(exponential_func, x_numeric, y_data, \n",
    "                          p0=[1, 0.01, 0], maxfev=5000)\n",
    "    \n",
    "    # Extend the curve into the future\n",
    "    future_days = 365 * 1.1  # 1.1 years\n",
    "    x_extended = np.linspace(x_numeric.min(), x_numeric.max() + future_days, 200)\n",
    "    y_extended = exponential_func(x_extended, *popt)\n",
    "    \n",
    "    # Convert back to datetime for plotting\n",
    "    x_plot = x_data.min() + pd.to_timedelta(x_extended, unit='D')\n",
    "    \n",
    "    # Plot future projection (dashed line)\n",
    "    ax.plot(x_plot, y_extended, \n",
    "            '--', color='steelblue', linewidth=1.5, label='Future projection', zorder=10)\n",
    "    \n",
    "    # Extend x-axis to show the projection\n",
    "    ax.set_xlim(x_data.min(), x_plot.max())\n",
    "\n",
    "def add_last_point_highlight_and_text(data, **kwargs):\n",
    "    ax = plt.gca()\n",
    "    last_point = data.iloc[-1]\n",
    "\n",
    "    # add text\n",
    "    text = f'{last_point['value']:,.0f} {ax.get_title()}'\n",
    "    wrapped_text = '\\n'.join(textwrap.wrap(text, width=15))\n",
    "    ax.text(0.1, 0.95, wrapped_text, \n",
    "            transform=ax.transAxes, \n",
    "            fontsize=12, \n",
    "            color='steelblue',\n",
    "            fontweight='bold',\n",
    "            ha='left', va='top')\n",
    "\n",
    "    # add highlight\n",
    "    ax.scatter(last_point['time'], last_point['value'], \n",
    "               color='steelblue', s=50, linewidth=1, zorder=5)\n",
    "\n",
    "# plot the data\n",
    "g = sns.FacetGrid(df_by_month, col='metric', col_wrap=3, \n",
    "                  sharey=False, sharex=True, height=3)\n",
    "\n",
    "(g.map_dataframe(sns.scatterplot, x='time', y='value', color='darkgrey', s=50, linewidth=1)\n",
    "  .map_dataframe(add_exponential_fit)\n",
    "  .set_titles(\"{col_name}\")\n",
    "  .map_dataframe(add_last_point_highlight_and_text)\n",
    "  .set_axis_labels(\"year\", \"cumulative count\")\n",
    "  .tight_layout()\n",
    "  .despine(offset=5))\n",
    "\n",
    "# save figure\n",
    "plt.savefig('data_metrics_projection.pdf', format='pdf')"
   ]
  },
  {
   "cell_type": "code",
   "execution_count": 12,
   "id": "2ff15dbe-0bab-4054-84b4-ddf18941daff",
   "metadata": {},
   "outputs": [
    {
     "data": {
      "image/png": "[encoded data removed]",
      "text/plain": [
       "<Figure size 100x300 with 1 Axes>"
      ]
     },
     "metadata": {},
     "output_type": "display_data"
    }
   ],
   "source": [
    "fig, ax = plt.subplots(figsize=(1, 3))\n",
    "\n",
    "df[[\"ecephys\", \"ophys\", \"icephys\"]].sum().plot.bar(ax=ax)\n",
    "ax.set_xlabel(\"modality\")\n",
    "ax.set_ylabel(\"# of NWB Dandisets\")\n",
    "sns.despine()\n",
    "ax.figure.savefig(\n",
    "    \"modality.png\",\n",
    "    bbox_inches=\"tight\",\n",
    "    dpi=300,\n",
    "    transparent=True,\n",
    ")"
   ]
  },
  {
   "cell_type": "code",
   "execution_count": 13,
   "id": "81d414d4-c31b-43a2-973e-1fe480f453d4",
   "metadata": {},
   "outputs": [
    {
     "data": {
      "image/png": "[encoded data removed]",
      "text/plain": [
       "<Figure size 300x300 with 1 Axes>"
      ]
     },
     "metadata": {},
     "output_type": "display_data"
    }
   ],
   "source": [
    "logsize = np.log10(df[\"size\"])\n",
    "#logsize[logsize < 0] = np.nan\n",
    "\n",
    "fig, ax = plt.subplots(figsize=(3, 3))\n",
    "ax = logsize.plot.hist(bins=20, ax=ax)\n",
    "ax.set_xticks([3, 6, 9, 12, 15])\n",
    "ax.set_xticklabels([\"KB\", \"MB\", \"GB\", \"TB\", \"PT\"])\n",
    "ax.set_xlabel(\"Total dandiset size\")\n",
    "ax.set_ylabel(\"# of NWB Dandisets\")\n",
    "sns.despine()\n",
    "ax.figure.savefig(\n",
    "    \"size.png\",\n",
    "    bbox_inches=\"tight\",\n",
    "    dpi=300,\n",
    "    transparent=True,\n",
    ")"
   ]
  },
  {
   "cell_type": "code",
   "execution_count": 14,
   "id": "65b0014e-0d53-4b91-916c-e94739589049",
   "metadata": {},
   "outputs": [
    {
     "data": {
      "text/plain": [
       "np.float64(388.235131370256)"
      ]
     },
     "execution_count": 14,
     "metadata": {},
     "output_type": "execute_result"
    }
   ],
   "source": [
    "df[\"size\"].sum()/(1e12)  #TB"
   ]
  },
  {
   "cell_type": "code",
   "execution_count": 15,
   "id": "80c1e1fe-29a5-4b6d-a1c0-3148a7115d40",
   "metadata": {},
   "outputs": [
    {
     "data": {
      "text/plain": [
       "np.int64(388235131370256)"
      ]
     },
     "execution_count": 15,
     "metadata": {},
     "output_type": "execute_result"
    }
   ],
   "source": [
    "df[\"size\"].sum()"
   ]
  },
  {
   "cell_type": "code",
   "execution_count": 16,
   "id": "234f0c78-753c-41f4-9fa4-8d801b823a3e",
   "metadata": {},
   "outputs": [
    {
     "data": {
      "text/plain": [
       "408"
      ]
     },
     "execution_count": 16,
     "metadata": {},
     "output_type": "execute_result"
    }
   ],
   "source": [
    "len(df)"
   ]
  },
  {
   "cell_type": "code",
   "execution_count": 17,
   "id": "58f3942e-dcec-47d4-a335-0839b20591c2",
   "metadata": {},
   "outputs": [
    {
     "data": {
      "image/png": "[encoded data removed]",
      "text/plain": [
       "<Figure size 400x300 with 1 Axes>"
      ]
     },
     "metadata": {},
     "output_type": "display_data"
    }
   ],
   "source": [
    "fig, ax = plt.subplots(figsize=(4,3))\n",
    "\n",
    "ax.plot(df['created'], np.arange(len(df)), 'k.')\n",
    "for label in ax.get_xticklabels(which='major'):\n",
    "    label.set(rotation=30, horizontalalignment='right')\n",
    "ax.set_ylabel('# of NWB Dandisets')\n",
    "ax.set_xlabel(\"date created\")\n",
    "sns.despine()\n",
    "ax.figure.savefig(\"date.png\", bbox_inches=\"tight\", dpi=300, transparent=True)"
   ]
  },
  {
   "cell_type": "code",
   "execution_count": 18,
   "id": "a9b9c959-2bd5-47c9-b4be-727c15feabc7",
   "metadata": {
    "tags": []
   },
   "outputs": [
    {
     "data": {
      "image/png": "[encoded data removed]",
      "text/plain": [
       "<Figure size 400x300 with 1 Axes>"
      ]
     },
     "metadata": {},
     "output_type": "display_data"
    }
   ],
   "source": [
    "fig, ax = plt.subplots(figsize=(4,3))\n",
    "\n",
    "order = np.argsort(df['modified'])\n",
    "\n",
    "ax.plot(df['modified'][order], df['size'][order].cumsum()/10**12, '.k')\n",
    "for label in ax.get_xticklabels(which='major'):\n",
    "    label.set(rotation=30, horizontalalignment='right')\n",
    "ax.set_xlabel(\"date\")\n",
    "_ = ax.set_ylabel(\"TB of NWB on the archive\")"
   ]
  },
  {
   "cell_type": "code",
   "execution_count": 19,
   "id": "5d718c2f-cf22-4496-830e-1afa84e5aad9",
   "metadata": {
    "tags": []
   },
   "outputs": [
    {
     "data": {
      "text/plain": [
       "Index(['identifier', 'created', 'modified', 'size', 'species', 'nauthors',\n",
       "       'ecephys', 'ophys', 'icephys', 'numberOfSubjects', 'numberOfFiles',\n",
       "       'has_related_pub'],\n",
       "      dtype='object')"
      ]
     },
     "execution_count": 19,
     "metadata": {},
     "output_type": "execute_result"
    }
   ],
   "source": [
    "df.columns"
   ]
  },
  {
   "cell_type": "code",
   "execution_count": 20,
   "id": "6fdcd528-3b89-4317-b595-d74864d29f0d",
   "metadata": {
    "tags": []
   },
   "outputs": [
    {
     "data": {
      "image/png": "[encoded data removed]",
      "text/plain": [
       "<Figure size 400x300 with 1 Axes>"
      ]
     },
     "metadata": {},
     "output_type": "display_data"
    }
   ],
   "source": [
    "fig, ax = plt.subplots(figsize=(4,3))\n",
    "\n",
    "order = np.argsort(df['modified'])\n",
    "\n",
    "ax.plot(df['modified'][order], df['numberOfFiles'][order].cumsum(), '.k')\n",
    "for label in ax.get_xticklabels(which='major'):\n",
    "    label.set(rotation=30, horizontalalignment='right')\n",
    "ax.set_xlabel(\"date\")\n",
    "_ = ax.set_ylabel(\"# NWB files on the archive\")"
   ]
  },
  {
   "cell_type": "code",
   "execution_count": 21,
   "id": "dbd416eb-3b7b-4982-864c-247e05281b94",
   "metadata": {
    "tags": []
   },
   "outputs": [
    {
     "data": {
      "text/plain": [
       "[Text(0, 9, 'GB'), Text(0, 12, 'TB'), Text(0, 15, 'PB')]"
      ]
     },
     "execution_count": 21,
     "metadata": {},
     "output_type": "execute_result"
    },
    {
     "data": {
      "image/png": "[encoded data removed]",
      "text/plain": [
       "<Figure size 400x300 with 1 Axes>"
      ]
     },
     "metadata": {},
     "output_type": "display_data"
    }
   ],
   "source": [
    "fig, ax = plt.subplots(figsize=(4,3))\n",
    "\n",
    "order = np.argsort(df['modified'])\n",
    "\n",
    "ax.plot(df['modified'][order], np.log10(df['size'][order].cumsum()), 'k.')\n",
    "for label in ax.get_xticklabels(which='major'):\n",
    "    label.set(rotation=30, horizontalalignment='right')\n",
    "ax.set_yticks([9,12,15])\n",
    "ax.set_yticklabels([\"GB\", \"TB\", \"PB\"])"
   ]
  },
  {
   "cell_type": "code",
   "execution_count": 22,
   "id": "dbd87594-ff0f-44f2-b4f0-b16235b6f9cb",
   "metadata": {
    "tags": []
   },
   "outputs": [
    {
     "data": {
      "text/plain": [
       "(12.0, 15.0)"
      ]
     },
     "execution_count": 22,
     "metadata": {},
     "output_type": "execute_result"
    },
    {
     "data": {
      "image/png": "[encoded data removed]",
      "text/plain": [
       "<Figure size 400x300 with 1 Axes>"
      ]
     },
     "metadata": {},
     "output_type": "display_data"
    }
   ],
   "source": [
    "fig, ax = plt.subplots(figsize=(4,3))\n",
    "\n",
    "order = np.argsort(df['modified'])\n",
    "\n",
    "ax.plot(df['modified'][order], np.log10(df['size'][order].cumsum()), 'k.')\n",
    "for label in ax.get_xticklabels(which='major'):\n",
    "    label.set(rotation=30, horizontalalignment='right')\n",
    "ax.set_yticks([12, 13, 14, 15])\n",
    "ax.set_yticklabels([\"1 TB\", \"100 TB\", \"100 TB\", \"1 PB\"])\n",
    "ax.set_xlim(datetime(2021, 3, 1), None)\n",
    "ax.set_ylim(12, 15)"
   ]
  },
  {
   "cell_type": "code",
   "execution_count": 23,
   "id": "7e480699-6c54-4eec-ab03-c711f3bebf48",
   "metadata": {
    "tags": []
   },
   "outputs": [],
   "source": [
    "date_idx = df['modified'][order].apply(lambda x: pd.to_datetime(x)).dt.date > datetime(2021,3,1).date()"
   ]
  },
  {
   "cell_type": "code",
   "execution_count": 24,
   "id": "bbe46d8a-6028-47b5-81c3-f93603c380f2",
   "metadata": {
    "tags": []
   },
   "outputs": [],
   "source": [
    "seconds_in_a_day = 86400\n",
    "days = (df['modified'][order]).apply(lambda x: (x.replace(tzinfo=None) - datetime(2021,3,1)).total_seconds()/seconds_in_a_day/365.25)"
   ]
  },
  {
   "cell_type": "code",
   "execution_count": 25,
   "id": "6bbfc675-c944-4ea5-9abf-c43f02fca815",
   "metadata": {
    "tags": []
   },
   "outputs": [
    {
     "data": {
      "text/plain": [
       "Text(0.5, 0, 'date')"
      ]
     },
     "execution_count": 25,
     "metadata": {},
     "output_type": "execute_result"
    },
    {
     "data": {
      "image/png": "[encoded data removed]",
      "text/plain": [
       "<Figure size 640x480 with 1 Axes>"
      ]
     },
     "metadata": {},
     "output_type": "display_data"
    }
   ],
   "source": [
    "ax = sns.regplot(x=days[date_idx], y=df['size'][order].cumsum()[date_idx]);\n",
    "ax.set_xlabel(\"date\")\n",
    "#ax.set_yticks([13, 14, 15])\n",
    "#ax.set_yticklabels([\"10 TB\", \"100 TB\", \"1 PB\"])\n",
    "#ax.set_yticks(12+np.log10(np.linspace(1,10,10)), minor=True)\n",
    "\n"
   ]
  },
  {
   "cell_type": "code",
   "execution_count": 26,
   "id": "f2a60dbd-2234-40f6-91fa-d70988f45890",
   "metadata": {
    "tags": []
   },
   "outputs": [
    {
     "data": {
      "text/plain": [
       "Text(0, 0.5, 'total size (TB)')"
      ]
     },
     "execution_count": 26,
     "metadata": {},
     "output_type": "execute_result"
    },
    {
     "data": {
      "image/png": "[encoded data removed]",
      "text/plain": [
       "<Figure size 640x480 with 1 Axes>"
      ]
     },
     "metadata": {},
     "output_type": "display_data"
    }
   ],
   "source": [
    "fig, ax = plt.subplots()\n",
    "ax.plot(days[date_idx], df['size'][order].cumsum()[date_idx]/10**12, 'o')\n",
    "ax.set_ylabel(\"total size (TB)\")"
   ]
  },
  {
   "cell_type": "code",
   "execution_count": 27,
   "id": "22afb955-1b4d-4ef7-a19f-53672dfbac24",
   "metadata": {
    "tags": []
   },
   "outputs": [
    {
     "data": {
      "text/plain": [
       "(0.0, 3.0)"
      ]
     },
     "execution_count": 27,
     "metadata": {},
     "output_type": "execute_result"
    },
    {
     "data": {
      "image/png": "[encoded data removed]",
      "text/plain": [
       "<Figure size 640x480 with 1 Axes>"
      ]
     },
     "metadata": {},
     "output_type": "display_data"
    }
   ],
   "source": [
    "import numpy as np\n",
    "import matplotlib.pyplot as plt\n",
    "from scipy.optimize import curve_fit\n",
    "\n",
    "fig, ax = plt.subplots()\n",
    "\n",
    "\n",
    "# define the power-law function to fit\n",
    "def power_law_func(x, a, b, c):\n",
    "    return a * x**b - c\n",
    "\n",
    "popt, pcov = curve_fit(power_law_func, days[date_idx], df['size'][order].cumsum()[date_idx]/10**12)\n",
    "\n",
    "# calculate the confidence intervals\n",
    "perr = np.sqrt(np.diag(pcov))\n",
    "confidence_interval = 1.96 * perr\n",
    "lower_bound = popt - confidence_interval\n",
    "upper_bound = popt + confidence_interval\n",
    "\n",
    "# plot the result\n",
    "x = np.linspace(0, 3, 100)\n",
    "ax.plot(days[date_idx], df['size'][order].cumsum()[date_idx]/10**12, 'o')\n",
    "ax.plot(x, power_law_func(x, *popt), label='fit')\n",
    "ax.fill_between(x, power_law_func(x, *lower_bound), power_law_func(x, *upper_bound), alpha=0.2, label='confidence interval')\n",
    "#plt.xscale('log')\n",
    "#plt.yscale('log')\n",
    "plt.legend()\n",
    "ax.set_ylabel(\"size (TB)\")\n",
    "ax.set_xlim(0,3)\n"
   ]
  },
  {
   "cell_type": "code",
   "execution_count": 28,
   "id": "b4730a57-71e9-4e0c-bdae-a25902d77156",
   "metadata": {
    "tags": []
   },
   "outputs": [
    {
     "data": {
      "text/plain": [
       "array([12.        , 12.30103   , 12.47712125, 12.60205999, 12.69897   ,\n",
       "       12.77815125, 12.84509804, 12.90308999, 12.95424251, 13.        ])"
      ]
     },
     "execution_count": 28,
     "metadata": {},
     "output_type": "execute_result"
    }
   ],
   "source": [
    "12+np.log10(np.linspace(1,10,10))"
   ]
  },
  {
   "cell_type": "code",
   "execution_count": 29,
   "id": "10a53a39-a2a4-4cd6-b2e9-b0c310a065ff",
   "metadata": {
    "tags": []
   },
   "outputs": [
    {
     "data": {
      "image/png": "[encoded data removed]",
      "text/plain": [
       "<Figure size 640x480 with 1 Axes>"
      ]
     },
     "metadata": {},
     "output_type": "display_data"
    }
   ],
   "source": [
    "import numpy as np\n",
    "import matplotlib.pyplot as plt\n",
    "from scipy.optimize import curve_fit\n",
    "\n",
    "# define the power-law function to fit\n",
    "def power_law_func(x, a, b):\n",
    "    return a * x**b\n",
    "\n",
    "# generate some sample data\n",
    "x = np.linspace(1, 10, 100)\n",
    "y = 5 * x**(3) + np.random.normal(0, 0.2, size=len(x))\n",
    "\n",
    "# fit the power-law function to the data\n",
    "popt, pcov = curve_fit(power_law_func, x, y)\n",
    "\n",
    "# calculate the confidence intervals\n",
    "perr = np.sqrt(np.diag(pcov))\n",
    "confidence_interval = 1.96 * perr\n",
    "lower_bound = popt - confidence_interval\n",
    "upper_bound = popt + confidence_interval\n",
    "\n",
    "# plot the result\n",
    "plt.scatter(x, y, label='data')\n",
    "plt.plot(x, power_law_func(x, *popt), label='fit')\n",
    "plt.fill_between(x, power_law_func(x, *lower_bound), power_law_func(x, *upper_bound), alpha=0.2, label='confidence interval')\n",
    "plt.xscale('log')\n",
    "plt.yscale('log')\n",
    "plt.legend()\n",
    "plt.show()\n"
   ]
  },
  {
   "cell_type": "code",
   "execution_count": 30,
   "id": "b2a17ccd-0445-4cfc-b848-879262ad3d00",
   "metadata": {
    "tags": []
   },
   "outputs": [],
   "source": [
    "times = df['modified'][order]\n",
    "days = (times - times.iloc[0]).apply(lambda x: x.total_seconds()/86400)"
   ]
  },
  {
   "cell_type": "code",
   "execution_count": 31,
   "id": "93992448-d8b5-4937-9071-df972c0e677c",
   "metadata": {
    "tags": []
   },
   "outputs": [
    {
     "name": "stderr",
     "output_type": "stream",
     "text": [
      "/Users/smprince/Documents/code/nwb-project-analytics/.venv/lib/python3.13/site-packages/pandas/core/arraylike.py:399: RuntimeWarning: overflow encountered in exp\n",
      "  result = getattr(ufunc, method)(*inputs, **kwargs)\n",
      "/Users/smprince/Documents/code/nwb-project-analytics/.venv/lib/python3.13/site-packages/scipy/optimize/_minpack_py.py:1024: RuntimeWarning: overflow encountered in square\n",
      "  cost = np.sum(infodict['fvec'] ** 2)\n",
      "/var/folders/50/_vs4yj0n27jbxcv71kvzktqr0000gp/T/ipykernel_45255/1395594452.py:6: OptimizeWarning: Covariance of the parameters could not be estimated\n",
      "  coefs, _ = scipy.optimize.curve_fit(lambda t,a,b: a*np.exp(b*t),  x,  y)\n"
     ]
    }
   ],
   "source": [
    "import scipy\n",
    "\n",
    "x = days\n",
    "y = df['size'][order].cumsum()\n",
    "\n",
    "coefs, _ = scipy.optimize.curve_fit(lambda t,a,b: a*np.exp(b*t),  x,  y)\n"
   ]
  },
  {
   "cell_type": "code",
   "execution_count": 32,
   "id": "51851a65-345e-442e-ae58-5414c09325eb",
   "metadata": {
    "tags": []
   },
   "outputs": [
    {
     "data": {
      "text/plain": [
       "array([1., 1.])"
      ]
     },
     "execution_count": 32,
     "metadata": {},
     "output_type": "execute_result"
    }
   ],
   "source": [
    "coefs"
   ]
  },
  {
   "cell_type": "code",
   "execution_count": 33,
   "id": "ba6670fe-e9ca-4043-870d-475c4fce7afb",
   "metadata": {
    "tags": []
   },
   "outputs": [
    {
     "data": {
      "text/plain": [
       "['MB', 'GB', 'TB', 'PB']"
      ]
     },
     "execution_count": 33,
     "metadata": {},
     "output_type": "execute_result"
    }
   ],
   "source": [
    "[1000**x for x in range(2,6)]\n",
    "[\"MB\", \"GB\", \"TB\", \"PB\"]"
   ]
  },
  {
   "cell_type": "code",
   "execution_count": 34,
   "id": "b9be3f32-7f4c-4632-83db-b9a168eb849a",
   "metadata": {},
   "outputs": [
    {
     "data": {
      "image/png": "[encoded data removed]",
      "text/plain": [
       "<Figure size 640x480 with 1 Axes>"
      ]
     },
     "metadata": {},
     "output_type": "display_data"
    }
   ],
   "source": [
    "lognum = np.log10(df[\"numberOfSubjects\"])\n",
    "\n",
    "\n",
    "ax = lognum.plot.hist(bins=15)\n",
    "ax.set_xticks([0, 1, 2, 3])\n",
    "ax.set_xticklabels([1, 10, 100, 1000])\n",
    "ax.set_xlabel(\"number of subjects in each dandiset\")\n",
    "ax.figure.savefig(\"subjects.svg\", bbox_inches=\"tight\")"
   ]
  },
  {
   "cell_type": "code",
   "execution_count": 35,
   "id": "6081564b-20f0-46e7-becf-7779742060d9",
   "metadata": {},
   "outputs": [
    {
     "data": {
      "image/png": "[encoded data removed]",
      "text/plain": [
       "<Figure size 640x480 with 1 Axes>"
      ]
     },
     "metadata": {},
     "output_type": "display_data"
    }
   ],
   "source": [
    "lognum = np.log10(df[\"numberOfFiles\"])\n",
    "\n",
    "\n",
    "ax = lognum.plot.hist(bins=15)\n",
    "orders = np.arange(5)\n",
    "ax.set_xticks(orders)\n",
    "ax.set_xticklabels([10**x for x in orders])\n",
    "ax.set_xlabel(\"number of files in each dandiset\")\n",
    "ax.figure.savefig(\"files.svg\", bbox_inches=\"tight\")"
   ]
  },
  {
   "cell_type": "code",
   "execution_count": 36,
   "id": "2feb5e3e-d5d5-4bd7-9efe-57935e442fd9",
   "metadata": {},
   "outputs": [],
   "source": [
    "identifiers = df[\n",
    "    (df[\"species\"] == \"House mouse\") & \n",
    "    (df[\"numberOfSubjects\"] > 40) & \n",
    "    (df[\"ecephys\"] == True)\n",
    "][\"identifier\"].values"
   ]
  },
  {
   "cell_type": "code",
   "execution_count": 37,
   "id": "3502f9f0-8899-4f67-a033-0aba8e06afda",
   "metadata": {},
   "outputs": [
    {
     "name": "stderr",
     "output_type": "stream",
     "text": [
      "100%|██████████| 148/148 [00:16<00:00,  9.20it/s]\n"
     ]
    },
    {
     "data": {
      "text/plain": [
       "79"
      ]
     },
     "execution_count": 37,
     "metadata": {},
     "output_type": "execute_result"
    }
   ],
   "source": [
    "# find only NWB files with male subjects\n",
    "asset_list = []\n",
    "for dandiset in dandisets[:3]:\n",
    "    if dandiset.identifier not in identifiers:\n",
    "        continue\n",
    "    for asset in tqdm(list(dandiset.get_assets())):\n",
    "        asset_metadata = asset.get_metadata()\n",
    "        if asset_metadata.wasAttributedTo is not None:\n",
    "            sex = asset_metadata.wasAttributedTo[0].sex \n",
    "            if sex and sex.name == \"Male\":\n",
    "                asset_list.append(asset)\n",
    "len(asset_list)"
   ]
  }
 ],
 "metadata": {
  "kernelspec": {
   "display_name": ".venv",
   "language": "python",
   "name": "python3"
  },
  "language_info": {
   "codemirror_mode": {
    "name": "ipython",
    "version": 3
   },
   "file_extension": ".py",
   "mimetype": "text/x-python",
   "name": "python",
   "nbconvert_exporter": "python",
   "pygments_lexer": "ipython3",
   "version": "3.13.2"
  }
 },
 "nbformat": 4,
 "nbformat_minor": 5
}
