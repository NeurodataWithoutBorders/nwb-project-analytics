{
 "cells": [
  {
   "cell_type": "markdown",
   "metadata": {},
   "source": [
    "# Compute code statistics history for NWB repositories\n",
    "\n",
    "**This notebook requires:**\n",
    "\n",
    " * CLOC command-line tool must be installed\n",
    " * GitPython (pip install GitPython)\n",
    " * matplotlib, numpy, pandas, yaml\n",
    " \n",
    "**This notebook computes:**\n",
    "\n",
    " * CLOC stats for the last commit on each day for all NWB code repositories\n",
    " * Plots the results for all repos\n",
    " \n",
    "**NOTE:** Computing these statistics is done by checking out all repositorires and then iterating over all commits in a repo, checking out the repo for the last commit on each day, and then computing CLOC. As such, computing these statistics is time consuming. The results can be cached to YAML for further processing and to save time when rerunning and editing the notebook. \n",
    "\n",
    "**NOTE:** Results in the ``output_dir`` may be erased and/or modified any time the script is rerun. If results need to preserved then copy any relevant files before rerunning the notebook. "
   ]
  },
  {
   "cell_type": "code",
   "execution_count": null,
   "metadata": {},
   "outputs": [],
   "source": [
    "from nwb_project_analytics.codestats import GitCodeStats\n",
    "from nwb_project_analytics.gitstats import NWBGitInfo, GitRepos"
   ]
  },
  {
   "cell_type": "code",
   "execution_count": null,
   "metadata": {},
   "outputs": [],
   "source": [
    "import os \n",
    "import shutil\n",
    "import subprocess\n",
    "import git\n",
    "import time\n",
    "import ruamel.yaml as yaml\n",
    "import numpy as np\n",
    "import matplotlib as mpl\n",
    "from datetime import datetime\n",
    "from matplotlib import pyplot as plt\n",
    "from matplotlib import cm as cm\n",
    "import pandas as pd\n",
    "%matplotlib inline"
   ]
  },
  {
   "cell_type": "markdown",
   "metadata": {},
   "source": [
    "## 1. Define script settings\n",
    "\n",
    "In this section we can update the main settings for the analyses in this notebook. Settings (e.g., color choices) specific to a plot appear with the corresponing plotting sections."
   ]
  },
  {
   "cell_type": "code",
   "execution_count": null,
   "metadata": {},
   "outputs": [],
   "source": [
    "cloc_path = \"/opt/homebrew/bin/cloc\" #/Users/oruebel/Devel/Libraries/cloc/cloc\"\n",
    "data_dir = os.path.join(os.getcwd(), 'data')\n",
    "plot_dir = os.path.join(os.getcwd(), 'plots')\n",
    "load_cached_results = True  # load the cloc results from yaml\n",
    "cache_results = True  # save the cloc results to yaml\n",
    "show_hackathons = False # Remove the hackathons from the plots\n",
    "save_figs = True   # Save the plots to file\n",
    "start_date=None    # use the default start date NWBGitInfo.NWB2_START_DATE\n",
    "end_date=None      # use the default end date datetime.today() \n",
    "date_range = pd.date_range(\n",
    "            start=NWBGitInfo.NWB2_START_DATE if start_date is None else start_date,\n",
    "            end=datetime.today() if end_date is None else end_date,\n",
    "            freq=\"D\")\n",
    "\n",
    "# Select the repos and their order for the summary plot with the lines of code\n",
    "summary_plot_repos = [\n",
    "     'PyNWB', 'HDMF', 'MatNWB',\n",
    "     'NWB_Schema_Language', 'NWB_Schema', \n",
    "     'HDMF_Common_Schema', 'HDMF_DocUtils', 'HDMF_Zarr',\n",
    "     'NDX_Catalog', 'NDX_Template', 'NDX_Staged_Extensions', 'NDX_Extension_Smithy',\n",
    "     'NWBWidgets', 'NWBInspector',\n",
    "     'NeuroConv']"
   ]
  },
  {
   "cell_type": "markdown",
   "metadata": {},
   "source": [
    "## 2. Compute the code statistics for all NWB repos"
   ]
  },
  {
   "cell_type": "markdown",
   "metadata": {},
   "source": [
    "Comute the `GitCodeStats` with the statistics for all NWB repos. Based on those results also compile the summary of LOC statistics across repos by catagories: `blank`, `comment`, `code`, `nFiles`, `size`. The summary statistics align and expand results from all repos as pandas.DataFrame tables so that we can conveniently plot them together. The summary statistics are defined with a continoues date range and expand the results from all repos to align with the common time axis. For dates where no new CLOC stats are recorded for a repo, the statistics from the previous time are carried forward to fill in the gaps."
   ]
  },
  {
   "cell_type": "code",
   "execution_count": null,
   "metadata": {},
   "outputs": [],
   "source": [
    "git_code_stats, summary_stats = GitCodeStats.from_nwb(\n",
    "    cache_dir=data_dir,\n",
    "    cloc_path=cloc_path,\n",
    "    start_date=start_date,  # if None use the default start date NWBGitInfo.NWB2_START_DATE\n",
    "    end_date=end_date,      # if None use the default end date datetime.today() \n",
    "    read_cache=load_cached_results,  # use the cached results if available\n",
    "    write_cache=cache_results        # cache new results to cache_dir\n",
    ")"
   ]
  },
  {
   "cell_type": "markdown",
   "metadata": {},
   "source": [
    "## 3. Plot summary of the lines of code across all NWB repos\n",
    "### 3.1. Plot version 1: Using default colors for repos"
   ]
  },
  {
   "cell_type": "code",
   "execution_count": null,
   "metadata": {},
   "outputs": [],
   "source": [
    "evenly_spaced_interval = np.linspace(0, 1, len(summary_plot_repos))\n",
    "#colors = [cm.tab20(x) for x in evenly_spaced_interval]\n",
    "colors = [cm.Paired(x) for x in evenly_spaced_interval]\n",
    "# mix up colors so that neighbouring areas have more dissimilar colors\n",
    "colors = [c for i, c in enumerate(colors) if i % 2 == 0] + [c for i, c in enumerate(colors) if i % 2 == 1]\n",
    "ax = summary_stats['sizes'][summary_plot_repos].plot.area(\n",
    "    figsize=(18,10), \n",
    "    stacked=True, \n",
    "    linewidth=0,\n",
    "    fontsize=24, \n",
    "    color=colors)\n",
    "ax.get_yaxis().set_major_formatter(\n",
    "    mpl.ticker.FuncFormatter(lambda x, p: format(int(x), ',')))\n",
    "plt.legend(loc=2, prop={'size': 20})\n",
    "plt.ylabel('Lines of Code', fontsize=24)\n",
    "plt.xlabel('Date', fontsize=24)\n",
    "plt.grid(color='black', linestyle='--', linewidth=0.7, axis='both')\n",
    "plt.tight_layout()\n",
    "if save_figs:\n",
    "    plt.savefig(os.path.join(plot_dir, 'nwb_repo_sizes_all.pdf'))\n",
    "plt.title('NWB Code Repository Sizes', fontsize=20)\n",
    "plt.show()"
   ]
  },
  {
   "cell_type": "markdown",
   "metadata": {},
   "source": [
    "### 3.1 Plot grouped summary of the lines of code across all NWB repos \n",
    "\n",
    "For the paper we want to group tools to ease overview."
   ]
  },
  {
   "cell_type": "code",
   "execution_count": null,
   "metadata": {},
   "outputs": [],
   "source": [
    "# Sort repos so we can group them category\n",
    "summary_plot_repos_accum = [\n",
    "     'NWB_Schema', 'HDMF_Common_Schema', 'NWB_Schema_Language', \n",
    "     'PyNWB', \n",
    "     'HDMF',\n",
    "     'MatNWB',\n",
    "     'HDMF_DocUtils', 'NWBWidgets', 'NWBInspector',\n",
    "     'HDMF_Zarr', 'NeuroConv',\n",
    "     'NDX_Catalog', 'NDX_Template', 'NDX_Staged_Extensions', 'NDX_Extension_Smithy']\n",
    "colors = [(0.7, 0.0, 0.0, 1.0), (0.7, 0.0, 0.0, 0.6), (0.7, 0.0, 0.0, 0.4),\n",
    "          (0.0, 0.5, 0.6, 1.0),\n",
    "          (0.0, 0.75, 0.85, 1.0),\n",
    "          (0.4, 1.0, 1.0 ,1.0),\n",
    "          (0.8, 0.4, 0.0, 1.0), (0.8, 0.4, 0.0, 0.7), (0.8, 0.4, 0.0, 0.5),\n",
    "          (0.8, 0.8, 0.2, 1.0), (0.8, 0.8, 0.2, 0.5),\n",
    "          (0.0, 0.0, 0.7, 1.0), (0.0, 0.0, 0.7, 0.85), (0.0, 0.0, 0.7, 0.7), (0.0, 0.0, 0.7, 0.55)]\n",
    "ax = summary_stats['sizes'][summary_plot_repos_accum].plot.area(\n",
    "    figsize=(18,10), \n",
    "    stacked=True, \n",
    "    linewidth=0,\n",
    "    fontsize=24, \n",
    "    color=colors)\n",
    "ax.get_yaxis().set_major_formatter(\n",
    "    mpl.ticker.FuncFormatter(lambda x, p: format(int(x), ',')))\n",
    "ax.get_legend().remove()\n",
    "plt.ylabel('Lines of Code', fontsize=24)\n",
    "plt.xlabel('Date', fontsize=24)\n",
    "plt.grid(color='black', linestyle='--', linewidth=0.7, axis='both')\n",
    "plt.tight_layout()\n",
    "plt.legend(loc=2, prop={'size': 20,}, facecolor=(1.0, 1.0, 1.0, 1.0), framealpha=1.0)\n",
    "if save_figs:\n",
    "    plt.savefig(os.path.join(plot_dir, 'nwb_repo_sizes_all_grouped.pdf'))\n",
    "plt.title('NWB Code Repository Sizes', fontsize=20)\n",
    "plt.show()"
   ]
  },
  {
   "cell_type": "code",
   "execution_count": null,
   "metadata": {},
   "outputs": [],
   "source": [
    "repo_sizes_grouped_df = pd.DataFrame.from_dict(\n",
    "    {'Format Schema': (summary_stats['sizes']['NWB_Schema'] + \n",
    "                       summary_stats['sizes']['HDMF_Common_Schema'] + \n",
    "                       summary_stats['sizes']['NWB_Schema_Language']),\n",
    "     'HDMF': summary_stats['sizes']['HDMF'],\n",
    "     'PyNWB': summary_stats['sizes']['PyNWB'],\n",
    "     'MatNWB': summary_stats['sizes']['MatNWB'],\n",
    "     'NWB Tools': (summary_stats['sizes']['HDMF_DocUtils'] + \n",
    "                   summary_stats['sizes']['NWBWidgets'] + \n",
    "                   summary_stats['sizes']['NWBInspector'] + \n",
    "                   summary_stats['sizes']['HDMF_Zarr'] + \n",
    "                   summary_stats['sizes']['NeuroConv']),\n",
    "     'NDX Catalog': (summary_stats['sizes']['NDX_Catalog'] +\n",
    "                     summary_stats['sizes']['NDX_Template'] +\n",
    "                     summary_stats['sizes']['NDX_Staged_Extensions'] +\n",
    "                     summary_stats['sizes']['NDX_Extension_Smithy']),\n",
    "    }\n",
    ")\n",
    "colors = [(78, 92, 150), (81, 133, 189), (155, 187, 89), (115, 147, 49), (191, 80, 77), (207, 130, 58)]\n",
    "colors = [ (c[0]/255.0, c[1]/255.0, c[2]/255.0, 1.0) for c in colors]\n",
    "ax = repo_sizes_grouped_df.plot.area(\n",
    "    figsize=(18,10), \n",
    "    stacked=True, \n",
    "    linewidth=0,\n",
    "    fontsize=24,\n",
    "    color=colors)\n",
    "ax.get_yaxis().set_major_formatter(\n",
    "    mpl.ticker.FuncFormatter(lambda x, p: format(int(x), ',')))\n",
    "ax.get_legend().remove()\n",
    "plt.ylabel('Lines of Code', fontsize=24)\n",
    "plt.xlabel('Date', fontsize=24)\n",
    "plt.grid(color='black', linestyle='--', linewidth=0.7, axis='both')\n",
    "plt.tight_layout()\n",
    "plt.legend(loc=2, prop={'size': 24,}, facecolor=(1.0, 1.0, 1.0, 1.0), framealpha=1.0)\n",
    "if save_figs:\n",
    "    plt.savefig(os.path.join(plot_dir, 'nwb_repo_sizes_grouped.pdf'))\n",
    "    \n",
    "plt.title('NWB Code Repository Sizes', fontsize=20)\n",
    "plt.show()"
   ]
  },
  {
   "cell_type": "markdown",
   "metadata": {},
   "source": [
    "## 4. Plot per-repo total lines of code statistics broken down by: code, blank, comment"
   ]
  },
  {
   "cell_type": "code",
   "execution_count": null,
   "metadata": {},
   "outputs": [],
   "source": [
    "for k in summary_stats['codes'].keys():\n",
    "    curr_df = pd.DataFrame.from_dict({'code': summary_stats['codes'][k], \n",
    "                                      'blank': summary_stats['blanks'][k], \n",
    "                                      'comment': summary_stats['comments'][k]})\n",
    "    curr_df.index = date_range\n",
    "    curr_df.plot.area(\n",
    "        figsize=(18,10), \n",
    "        stacked=True, \n",
    "        linewidth=0, \n",
    "        fontsize=16)\n",
    "    plt.legend(loc=2, prop={'size': 16})\n",
    "    plt.ylabel('Lines of Code (CLOC)', fontsize=16)\n",
    "    plt.grid(color='black', linestyle='--', linewidth=0.7, axis='both')\n",
    "    plt.title(\"Lines of Code: %s\" % k, fontsize=20)\n",
    "    plt.tight_layout()\n",
    "    if save_figs:\n",
    "        plt.savefig(os.path.join(plot_dir, '%s_loc.pdf' % k))\n",
    "    plt.show()"
   ]
  },
  {
   "cell_type": "markdown",
   "metadata": {},
   "source": [
    "## 4. Per-repo total lines of code statistics broken down by language type\n",
    "### 4.1. Compute the per-repo language statistics"
   ]
  },
  {
   "cell_type": "code",
   "execution_count": null,
   "metadata": {},
   "outputs": [],
   "source": [
    "# Iterate through all repos \n",
    "ignore_lang = ['SUM', 'header']\n",
    "languages_used_all = git_code_stats.get_languages_used(ignore_lang)\n",
    "per_repo_lang_stats = git_code_stats.compute_language_stats(ignore_lang)"
   ]
  },
  {
   "cell_type": "markdown",
   "metadata": {},
   "source": [
    "### 4.2. Plot the per-repo total lines of code statistics broken down by language type"
   ]
  },
  {
   "cell_type": "code",
   "execution_count": null,
   "metadata": {},
   "outputs": [],
   "source": [
    "# Create unique colors per language so we can be consistent across plots\n",
    "evenly_spaced_interval = np.linspace(0, 1, len(languages_used_all))\n",
    "language_colors = {languages_used_all[i]:cm.jet(x) #tab20(x) \n",
    "                   for i, x in enumerate(evenly_spaced_interval)}\n",
    "# Iterate through all repos and plot the per-language LOC stats for each repo\n",
    "for k, v in per_repo_lang_stats.items():\n",
    "    v.plot.area( \n",
    "        figsize=(18,10), \n",
    "        stacked=True, \n",
    "        linewidth=0, \n",
    "        fontsize=16,\n",
    "        color = [language_colors[l] for l in v.columns]\n",
    "    )\n",
    "    plt.legend(loc=2, prop={'size': 16})\n",
    "    plt.ylabel('Lines of Code (CLOC)', fontsize=16)\n",
    "    plt.grid(color='black', linestyle='--', linewidth=0.7, axis='both')\n",
    "    plt.title(\"Lines of Code: %s\" % k, fontsize=20)\n",
    "    plt.tight_layout()\n",
    "    if save_figs:\n",
    "        plt.savefig(os.path.join(plot_dir, '%s_language_loc.pdf' % k))\n",
    "    plt.show()"
   ]
  },
  {
   "cell_type": "code",
   "execution_count": null,
   "metadata": {},
   "outputs": [],
   "source": []
  },
  {
   "cell_type": "code",
   "execution_count": null,
   "metadata": {},
   "outputs": [],
   "source": []
  },
  {
   "cell_type": "code",
   "execution_count": null,
   "metadata": {},
   "outputs": [],
   "source": []
  }
 ],
 "metadata": {
  "kernelspec": {
   "display_name": "Python 3 (ipykernel)",
   "language": "python",
   "name": "python3"
  },
  "language_info": {
   "codemirror_mode": {
    "name": "ipython",
    "version": 3
   },
   "file_extension": ".py",
   "mimetype": "text/x-python",
   "name": "python",
   "nbconvert_exporter": "python",
   "pygments_lexer": "ipython3",
   "version": "3.9.7"
  }
 },
 "nbformat": 4,
 "nbformat_minor": 4
}
