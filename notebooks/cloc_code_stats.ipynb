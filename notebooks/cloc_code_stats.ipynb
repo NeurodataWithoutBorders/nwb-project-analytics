{
 "cells": [
  {
   "cell_type": "markdown",
   "metadata": {},
   "source": [
    "# Compute code statistics history for NWB repositories\n",
    "\n",
    "**This notebook requires:**\n",
    "\n",
    " * CLOC command-line tool must be installed\n",
    " * GitPython (pip install GitPython)\n",
    " * matplotlib, numpy, pandas, yaml\n",
    " \n",
    "**This notebook computes:**\n",
    "\n",
    " * CLOC stats for the last commit on each day for all NWB code repositories\n",
    " * Plots the results for all repos\n",
    " \n",
    "**NOTE:** Computing these statistics is done by checking out all repositorires and then iterating over all commits in a repo, checking out the repo for the last commit on each day, and then computing CLOC. As such, computing these statistics is time consuming. The results can be cached to YAML for further processing and to save time when rerunning and editing the notebook. \n",
    "\n",
    "**NOTE:** Results in the ``output_dir`` may be erased and/or modified any time the script is rerun. If results need to preserved then copy any relevant files before rerunning the notebook. "
   ]
  },
  {
   "cell_type": "code",
   "execution_count": null,
   "metadata": {},
   "outputs": [],
   "source": [
    "from nwb_project_analytics.codestats import GitCodeStats\n",
    "from nwb_project_analytics.gitstats import NWBGitInfo, GitRepos"
   ]
  },
  {
   "cell_type": "code",
   "execution_count": null,
   "metadata": {},
   "outputs": [],
   "source": [
    "import os \n",
    "import shutil\n",
    "import subprocess\n",
    "import git\n",
    "import time\n",
    "import ruamel.yaml as yaml\n",
    "import numpy as np\n",
    "import matplotlib as mpl\n",
    "from datetime import datetime\n",
    "from matplotlib import pyplot as plt\n",
    "from matplotlib import cm as cm\n",
    "from collections import OrderedDict\n",
    "import pandas as pd\n",
    "%matplotlib inline"
   ]
  },
  {
   "cell_type": "markdown",
   "metadata": {},
   "source": [
    "## 1. Define script settings\n",
    "\n",
    "In this section we can update the main settings for the analyses in this notebook. Settings (e.g., color choices) specific to a plot appear with the corresponing plotting sections."
   ]
  },
  {
   "cell_type": "code",
   "execution_count": null,
   "metadata": {},
   "outputs": [],
   "source": [
    "cloc_path = \"/opt/homebrew/bin/cloc\" #/Users/oruebel/Devel/Libraries/cloc/cloc\"\n",
    "data_dir = os.path.join(os.getcwd(), '../data')\n",
    "plot_dir = os.path.join(os.getcwd(), 'plots')\n",
    "load_cached_results = True  # load the cloc results from yaml\n",
    "cache_results = True  # save the cloc results to yaml\n",
    "show_hackathons = False # Remove the hackathons from the plots\n",
    "save_figs = True   # Save the plots to file\n",
    "start_date=None    # use the default start date NWBGitInfo.NWB2_START_DATE\n",
    "end_date=None      # use the default end date datetime.today() \n",
    "date_range = pd.date_range(\n",
    "            start=NWBGitInfo.NWB2_START_DATE if start_date is None else start_date,\n",
    "            end=datetime.today() if end_date is None else end_date,\n",
    "            freq=\"D\")"
   ]
  },
  {
   "cell_type": "markdown",
   "metadata": {},
   "source": [
    "## 2. Compute the code statistics for all NWB repos"
   ]
  },
  {
   "cell_type": "markdown",
   "metadata": {},
   "source": [
    "Comute the `GitCodeStats` with the statistics for all NWB repos. Based on those results also compile the summary of LOC statistics across repos by catagories: `blank`, `comment`, `code`, `nFiles`, `size`. The summary statistics align and expand results from all repos as pandas.DataFrame tables so that we can conveniently plot them together. The summary statistics are defined with a continoues date range and expand the results from all repos to align with the common time axis. For dates where no new CLOC stats are recorded for a repo, the statistics from the previous time are carried forward to fill in the gaps."
   ]
  },
  {
   "cell_type": "code",
   "execution_count": null,
   "metadata": {},
   "outputs": [],
   "source": [
    "git_code_stats, summary_stats, per_repo_lang_stats, languages_used_all = GitCodeStats.from_nwb(\n",
    "    cache_dir=data_dir,\n",
    "    cloc_path=cloc_path,\n",
    "    start_date=start_date,  # if None use the default start date NWBGitInfo.NWB2_START_DATE\n",
    "    end_date=end_date,      # if None use the default end date datetime.today() \n",
    "    read_cache=load_cached_results,  # use the cached results if available\n",
    "    write_cache=cache_results        # cache new results to cache_dir\n",
    ")"
   ]
  },
  {
   "cell_type": "code",
   "execution_count": null,
   "metadata": {},
   "outputs": [],
   "source": [
    "print(\"Repository Keys:\")\n",
    "print(summary_stats['codes'].keys().values)"
   ]
  },
  {
   "cell_type": "markdown",
   "metadata": {},
   "source": [
    "## 3. Plot summary of the lines of code across all NWB repos\n"
   ]
  },
  {
   "cell_type": "code",
   "execution_count": null,
   "metadata": {},
   "outputs": [],
   "source": [
    "# Define the grouping of the repos\n",
    "summary_plot_repos_grouped = OrderedDict()\n",
    "summary_plot_repos_grouped['NWB APIs'] = ['PyNWB', 'MatNWB', 'AqNWB']\n",
    "summary_plot_repos_grouped['Data Modeling'] = ['HDMF', 'HDMF_Zarr', 'HDMF_Schema_Language', 'NWB_Schema_Language']\n",
    "summary_plot_repos_grouped['Extension Tools'] = ['NDX_Catalog', 'NDX_Template', 'NDX_Extension_Smithy', 'NDX_Staged_Extensions', 'HDMF_DocUtils']\n",
    "summary_plot_repos_grouped['Format Schema'] = ['NWB_Schema', 'HDMF_Common_Schema']\n",
    "summary_plot_repos_grouped['Data Conversion'] = ['NeuroConv', 'NWBInspector', 'NWB_GUIDE']\n",
    "summary_plot_repos_grouped['Cloud'] = ['LINDI', 'NWB_Benchmarks', 'NWBWidgets']\n",
    "summary_plot_repos_grouped['Online Resources'] = ['NWB_Overview', 'NWB_Project_Analytics', 'Hackathons']"
   ]
  },
  {
   "cell_type": "code",
   "execution_count": null,
   "metadata": {},
   "outputs": [],
   "source": [
    "# Create flat list of repos\n",
    "summary_plot_repos = [repo \n",
    "                      for repo_type in summary_plot_repos_grouped\n",
    "                      for repo in summary_plot_repos_grouped[repo_type]\n",
    "                     ] "
   ]
  },
  {
   "cell_type": "code",
   "execution_count": null,
   "metadata": {},
   "outputs": [],
   "source": [
    "# Define base colors for each category\n",
    "base_colors = {\n",
    "    'NWB APIs':       (0.121, 0.466, 0.705, 1.0),  # Blue\n",
    "    'Data Modeling':  (1.000, 0.843, 0.000, 1.0),  # Gold/Yellow\n",
    "    'Data Conversion':(0.200, 0.627, 0.172, 1.0),  # Green\n",
    "    'Extension Tools':(1.000, 0.498, 0.054, 1.0),  # Orange\n",
    "    'Format Schema':  (0.839, 0.153, 0.157, 1.0),  # Red\n",
    "    'Cloud':          (0.580, 0.404, 0.741, 1.0),  # Purple\n",
    "    'Online Resources':(0.549, 0.337, 0.294, 1.0), # Brown\n",
    "}"
   ]
  },
  {
   "cell_type": "markdown",
   "metadata": {},
   "source": [
    "### 3.1. Version 1: Using default colors for repos"
   ]
  },
  {
   "cell_type": "code",
   "execution_count": null,
   "metadata": {},
   "outputs": [],
   "source": [
    "# Create colors such that each repo is assigned a distinct color\n",
    "evenly_spaced_interval = np.linspace(0, 1, len(summary_plot_repos))\n",
    "colors = [cm.tab20(x) for x in evenly_spaced_interval]\n",
    "#colors = [cm.Paired(x) for x in evenly_spaced_interval]\n",
    "# mix up colors so that neighbouring areas have more dissimilar colors\n",
    "colors = [c for i, c in enumerate(colors) if i % 2 == 0] + [c for i, c in enumerate(colors) if i % 2 == 1]"
   ]
  },
  {
   "cell_type": "code",
   "execution_count": null,
   "metadata": {},
   "outputs": [],
   "source": [
    "ax = summary_stats['sizes'][summary_plot_repos].plot.area(\n",
    "    figsize=(18,10), \n",
    "    stacked=True, \n",
    "    linewidth=0,\n",
    "    fontsize=24, \n",
    "    color=colors)\n",
    "ax.get_yaxis().set_major_formatter(\n",
    "    mpl.ticker.FuncFormatter(lambda x, p: format(int(x), ',')))\n",
    "plt.legend(loc=2, prop={'size': 16})\n",
    "plt.ylabel('Lines of Code', fontsize=24)\n",
    "plt.xlabel('Date', fontsize=24)\n",
    "plt.grid(color='black', linestyle='--', linewidth=0.7, axis='both')\n",
    "plt.tight_layout()\n",
    "if save_figs:\n",
    "    plt.savefig(os.path.join(plot_dir, 'nwb_repo_sizes_all.pdf'))\n",
    "    plt.savefig(os.path.join(plot_dir, 'nwb_repo_sizes_all.png'), dpi=300)\n",
    "plt.title('NWB Code Repository Sizes', fontsize=20)\n",
    "plt.show()"
   ]
  },
  {
   "cell_type": "markdown",
   "metadata": {},
   "source": [
    "### 3.2 Group by color type but keep repos separate"
   ]
  },
  {
   "cell_type": "code",
   "execution_count": null,
   "metadata": {},
   "outputs": [],
   "source": [
    "## Generate colors to visually group all repos by color and distinguish repos within\n",
    "## each category based on their alpha value\n",
    "# Function to generate colors with varying alpha values\n",
    "def generate_colors(base_color, num_colors):\n",
    "    r, g, b, _ = base_color\n",
    "    alpha_step = 0.7 / (num_colors - 1) if num_colors > 1 else 0.7\n",
    "    return [(r, g, b, max(0.3, 1.0 - i * alpha_step)) for i in range(num_colors)]\n",
    "\n",
    "# Generate colors for each category\n",
    "colors = []\n",
    "for category, repos in summary_plot_repos_grouped.items():\n",
    "    base_color = base_colors[category]\n",
    "    category_colors = generate_colors(base_color, len(repos))\n",
    "    colors.extend(category_colors)"
   ]
  },
  {
   "cell_type": "code",
   "execution_count": null,
   "metadata": {},
   "outputs": [],
   "source": [
    "ax = summary_stats['sizes'][summary_plot_repos].plot.area(\n",
    "    figsize=(18,10), \n",
    "    stacked=True, \n",
    "    linewidth=0,\n",
    "    fontsize=24, \n",
    "    color=colors)\n",
    "ax.get_yaxis().set_major_formatter(\n",
    "    mpl.ticker.FuncFormatter(lambda x, p: format(int(x), ',')))\n",
    "ax.get_legend().remove()\n",
    "plt.ylabel('Lines of Code', fontsize=24)\n",
    "plt.xlabel('Date', fontsize=24)\n",
    "plt.grid(color='black', linestyle='--', linewidth=0.7, axis='both')\n",
    "plt.tight_layout()\n",
    "plt.legend(loc=2, prop={'size': 16,}, facecolor=(1.0, 1.0, 1.0, 1.0), framealpha=1.0)\n",
    "if save_figs:\n",
    "    plt.savefig(os.path.join(plot_dir, 'nwb_repo_sizes_all_grouped.pdf'))\n",
    "    plt.savefig(os.path.join(plot_dir, 'nwb_repo_sizes_all_grouped.png'), dpi=300)\n",
    "plt.title('NWB Code Repository Sizes', fontsize=20)\n",
    "plt.show()"
   ]
  },
  {
   "cell_type": "markdown",
   "metadata": {},
   "source": [
    "### 3.3 Combine repos into broad categories"
   ]
  },
  {
   "cell_type": "code",
   "execution_count": null,
   "metadata": {},
   "outputs": [],
   "source": [
    "# Create DataFrame with the total lines of code for each category (instead of for each repo)\n",
    "repo_sizes_grouped = OrderedDict()\n",
    "for category, repos in summary_plot_repos_grouped.items():\n",
    "    category_size = None\n",
    "    for repo in repos:\n",
    "        if category_size is None:\n",
    "            category_size = summary_stats['sizes'][repo]\n",
    "        else:\n",
    "            category_size += summary_stats['sizes'][repo]\n",
    "    repo_sizes_grouped [category] = category_size\n",
    "repo_sizes_grouped_df = pd.DataFrame.from_dict(repo_sizes_grouped)"
   ]
  },
  {
   "cell_type": "code",
   "execution_count": null,
   "metadata": {},
   "outputs": [],
   "source": [
    "# colors = [(78, 92, 150), (81, 133, 189), (155, 187, 89), (115, 147, 49), (191, 80, 77), (207, 130, 58)]\n",
    "# colors = [ (c[0]/255.0, c[1]/255.0, c[2]/255.0, 1.0) for c in colors]\n",
    "colors = [(c[0], c[1], c[2], 0.8)    for c in base_colors.values()]\n",
    "\n",
    "ax = repo_sizes_grouped_df.plot.area(\n",
    "    figsize=(18,10), \n",
    "    stacked=True, \n",
    "    linewidth=0,\n",
    "    fontsize=24,\n",
    "    color=colors)\n",
    "ax.get_yaxis().set_major_formatter(\n",
    "    mpl.ticker.FuncFormatter(lambda x, p: format(int(x), ',')))\n",
    "ax.get_legend().remove()\n",
    "plt.ylabel('Lines of Code', fontsize=24)\n",
    "plt.xlabel('Date', fontsize=24)\n",
    "plt.grid(color='black', linestyle='--', linewidth=0.7, axis='both')\n",
    "plt.tight_layout()\n",
    "plt.legend(loc=2, prop={'size': 24,}, facecolor=(1.0, 1.0, 1.0, 1.0), framealpha=1.0)\n",
    "if save_figs:\n",
    "    plt.savefig(os.path.join(plot_dir, 'nwb_repo_sizes_grouped.pdf'))\n",
    "    plt.savefig(os.path.join(plot_dir, 'nwb_repo_sizes_grouped.png'), dpi=300)\n",
    "    \n",
    "plt.title('NWB Code Repository Sizes', fontsize=20)\n",
    "plt.show()"
   ]
  },
  {
   "cell_type": "markdown",
   "metadata": {},
   "source": [
    "## 4. Plot per-repo stats\n",
    "### 4.1 Plot total lines of code statistics broken down by: code, blank, comment"
   ]
  },
  {
   "cell_type": "code",
   "execution_count": null,
   "metadata": {},
   "outputs": [],
   "source": [
    "for k in summary_stats['codes'].keys():\n",
    "    curr_df = pd.DataFrame.from_dict({'code': summary_stats['codes'][k], \n",
    "                                      'blank': summary_stats['blanks'][k], \n",
    "                                      'comment': summary_stats['comments'][k]})\n",
    "    curr_df.index = date_range\n",
    "    curr_df.plot.area(\n",
    "        figsize=(18,10), \n",
    "        stacked=True, \n",
    "        linewidth=0, \n",
    "        fontsize=16)\n",
    "    plt.legend(loc=2, prop={'size': 16})\n",
    "    plt.ylabel('Lines of Code (CLOC)', fontsize=16)\n",
    "    plt.grid(color='black', linestyle='--', linewidth=0.7, axis='both')\n",
    "    plt.title(\"Lines of Code: %s\" % k, fontsize=20)\n",
    "    plt.tight_layout()\n",
    "    if save_figs:\n",
    "        plt.savefig(os.path.join(plot_dir, '%s_loc.pdf' % k))\n",
    "    plt.show()"
   ]
  },
  {
   "cell_type": "markdown",
   "metadata": {},
   "source": [
    "## 4.2 Per-repo total lines of code statistics broken down by language type"
   ]
  },
  {
   "cell_type": "code",
   "execution_count": null,
   "metadata": {},
   "outputs": [],
   "source": [
    "# Create unique colors per language so we can be consistent across plots\n",
    "evenly_spaced_interval = np.linspace(0, 1, len(languages_used_all))\n",
    "language_colors = {languages_used_all[i]:cm.jet(x) #tab20(x) \n",
    "                   for i, x in enumerate(evenly_spaced_interval)}\n",
    "# Iterate through all repos and plot the per-language LOC stats for each repo\n",
    "for k, v in per_repo_lang_stats.items():\n",
    "    v.plot.area( \n",
    "        figsize=(18,10), \n",
    "        stacked=True, \n",
    "        linewidth=0, \n",
    "        fontsize=16,\n",
    "        color = [language_colors[l] for l in v.columns]\n",
    "    )\n",
    "    plt.legend(loc=2, prop={'size': 16})\n",
    "    plt.ylabel('Lines of Code (CLOC)', fontsize=16)\n",
    "    plt.grid(color='black', linestyle='--', linewidth=0.7, axis='both')\n",
    "    plt.title(\"Lines of Code: %s\" % k, fontsize=20)\n",
    "    plt.tight_layout()\n",
    "    if save_figs:\n",
    "        plt.savefig(os.path.join(plot_dir, '%s_language_loc.pdf' % k))\n",
    "    plt.show()"
   ]
  },
  {
   "cell_type": "code",
   "execution_count": null,
   "metadata": {},
   "outputs": [],
   "source": []
  },
  {
   "cell_type": "code",
   "execution_count": null,
   "metadata": {},
   "outputs": [],
   "source": []
  },
  {
   "cell_type": "code",
   "execution_count": null,
   "metadata": {},
   "outputs": [],
   "source": []
  }
 ],
 "metadata": {
  "kernelspec": {
   "display_name": "Python 3 (ipykernel)",
   "language": "python",
   "name": "python3"
  },
  "language_info": {
   "codemirror_mode": {
    "name": "ipython",
    "version": 3
   },
   "file_extension": ".py",
   "mimetype": "text/x-python",
   "name": "python",
   "nbconvert_exporter": "python",
   "pygments_lexer": "ipython3",
   "version": "3.13.5"
  }
 },
 "nbformat": 4,
 "nbformat_minor": 4
}
